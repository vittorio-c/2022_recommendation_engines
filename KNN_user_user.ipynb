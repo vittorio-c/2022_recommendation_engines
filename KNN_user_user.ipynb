{
 "cells": [
  {
   "cell_type": "code",
   "execution_count": 13,
   "metadata": {
    "collapsed": true
   },
   "outputs": [
    {
     "data": {
      "text/plain": "movieId  1       2       3       6       7       10      11      16      \\\nuserId                                                                    \n1           4.0     NaN     4.0     4.0     NaN     NaN     NaN     NaN   \n2           NaN     NaN     NaN     NaN     NaN     NaN     NaN     NaN   \n3           NaN     NaN     NaN     NaN     NaN     NaN     NaN     NaN   \n4           NaN     NaN     NaN     NaN     NaN     NaN     NaN     NaN   \n5           4.0     NaN     NaN     NaN     NaN     NaN     NaN     NaN   \n...         ...     ...     ...     ...     ...     ...     ...     ...   \n606         2.5     NaN     NaN     NaN     2.5     NaN     2.5     NaN   \n607         4.0     NaN     NaN     NaN     NaN     NaN     3.0     NaN   \n608         2.5     2.0     2.0     NaN     NaN     4.0     NaN     4.5   \n609         3.0     NaN     NaN     NaN     NaN     4.0     NaN     NaN   \n610         5.0     NaN     NaN     5.0     NaN     NaN     NaN     4.5   \n\nmovieId  17      19      ...  91500   91529   96079   99114   106782  109374  \\\nuserId                   ...                                                   \n1           NaN     NaN  ...     NaN     NaN     NaN     NaN     NaN     NaN   \n2           NaN     NaN  ...     NaN     3.5     NaN     3.5     5.0     NaN   \n3           NaN     NaN  ...     NaN     NaN     NaN     NaN     NaN     NaN   \n4           NaN     NaN  ...     NaN     NaN     NaN     NaN     NaN     NaN   \n5           NaN     NaN  ...     NaN     NaN     NaN     NaN     NaN     NaN   \n...         ...     ...  ...     ...     ...     ...     ...     ...     ...   \n606         4.0     2.0  ...     4.5     NaN     NaN     NaN     NaN     NaN   \n607         NaN     NaN  ...     NaN     NaN     NaN     NaN     NaN     NaN   \n608         NaN     2.0  ...     NaN     NaN     NaN     NaN     NaN     NaN   \n609         NaN     NaN  ...     NaN     NaN     NaN     NaN     NaN     NaN   \n610         NaN     NaN  ...     4.0     4.5     4.0     4.5     4.5     4.5   \n\nmovieId  109487  112852  116797  122904  \nuserId                                   \n1           NaN     NaN     NaN     NaN  \n2           3.0     NaN     NaN     NaN  \n3           NaN     NaN     NaN     NaN  \n4           NaN     NaN     NaN     NaN  \n5           NaN     NaN     NaN     NaN  \n...         ...     ...     ...     ...  \n606         NaN     NaN     NaN     NaN  \n607         NaN     NaN     NaN     NaN  \n608         NaN     NaN     NaN     NaN  \n609         NaN     NaN     NaN     NaN  \n610         3.5     4.5     NaN     3.0  \n\n[606 rows x 450 columns]",
      "text/html": "<div>\n<style scoped>\n    .dataframe tbody tr th:only-of-type {\n        vertical-align: middle;\n    }\n\n    .dataframe tbody tr th {\n        vertical-align: top;\n    }\n\n    .dataframe thead th {\n        text-align: right;\n    }\n</style>\n<table border=\"1\" class=\"dataframe\">\n  <thead>\n    <tr style=\"text-align: right;\">\n      <th>movieId</th>\n      <th>1</th>\n      <th>2</th>\n      <th>3</th>\n      <th>6</th>\n      <th>7</th>\n      <th>10</th>\n      <th>11</th>\n      <th>16</th>\n      <th>17</th>\n      <th>19</th>\n      <th>...</th>\n      <th>91500</th>\n      <th>91529</th>\n      <th>96079</th>\n      <th>99114</th>\n      <th>106782</th>\n      <th>109374</th>\n      <th>109487</th>\n      <th>112852</th>\n      <th>116797</th>\n      <th>122904</th>\n    </tr>\n    <tr>\n      <th>userId</th>\n      <th></th>\n      <th></th>\n      <th></th>\n      <th></th>\n      <th></th>\n      <th></th>\n      <th></th>\n      <th></th>\n      <th></th>\n      <th></th>\n      <th></th>\n      <th></th>\n      <th></th>\n      <th></th>\n      <th></th>\n      <th></th>\n      <th></th>\n      <th></th>\n      <th></th>\n      <th></th>\n      <th></th>\n    </tr>\n  </thead>\n  <tbody>\n    <tr>\n      <th>1</th>\n      <td>4.0</td>\n      <td>NaN</td>\n      <td>4.0</td>\n      <td>4.0</td>\n      <td>NaN</td>\n      <td>NaN</td>\n      <td>NaN</td>\n      <td>NaN</td>\n      <td>NaN</td>\n      <td>NaN</td>\n      <td>...</td>\n      <td>NaN</td>\n      <td>NaN</td>\n      <td>NaN</td>\n      <td>NaN</td>\n      <td>NaN</td>\n      <td>NaN</td>\n      <td>NaN</td>\n      <td>NaN</td>\n      <td>NaN</td>\n      <td>NaN</td>\n    </tr>\n    <tr>\n      <th>2</th>\n      <td>NaN</td>\n      <td>NaN</td>\n      <td>NaN</td>\n      <td>NaN</td>\n      <td>NaN</td>\n      <td>NaN</td>\n      <td>NaN</td>\n      <td>NaN</td>\n      <td>NaN</td>\n      <td>NaN</td>\n      <td>...</td>\n      <td>NaN</td>\n      <td>3.5</td>\n      <td>NaN</td>\n      <td>3.5</td>\n      <td>5.0</td>\n      <td>NaN</td>\n      <td>3.0</td>\n      <td>NaN</td>\n      <td>NaN</td>\n      <td>NaN</td>\n    </tr>\n    <tr>\n      <th>3</th>\n      <td>NaN</td>\n      <td>NaN</td>\n      <td>NaN</td>\n      <td>NaN</td>\n      <td>NaN</td>\n      <td>NaN</td>\n      <td>NaN</td>\n      <td>NaN</td>\n      <td>NaN</td>\n      <td>NaN</td>\n      <td>...</td>\n      <td>NaN</td>\n      <td>NaN</td>\n      <td>NaN</td>\n      <td>NaN</td>\n      <td>NaN</td>\n      <td>NaN</td>\n      <td>NaN</td>\n      <td>NaN</td>\n      <td>NaN</td>\n      <td>NaN</td>\n    </tr>\n    <tr>\n      <th>4</th>\n      <td>NaN</td>\n      <td>NaN</td>\n      <td>NaN</td>\n      <td>NaN</td>\n      <td>NaN</td>\n      <td>NaN</td>\n      <td>NaN</td>\n      <td>NaN</td>\n      <td>NaN</td>\n      <td>NaN</td>\n      <td>...</td>\n      <td>NaN</td>\n      <td>NaN</td>\n      <td>NaN</td>\n      <td>NaN</td>\n      <td>NaN</td>\n      <td>NaN</td>\n      <td>NaN</td>\n      <td>NaN</td>\n      <td>NaN</td>\n      <td>NaN</td>\n    </tr>\n    <tr>\n      <th>5</th>\n      <td>4.0</td>\n      <td>NaN</td>\n      <td>NaN</td>\n      <td>NaN</td>\n      <td>NaN</td>\n      <td>NaN</td>\n      <td>NaN</td>\n      <td>NaN</td>\n      <td>NaN</td>\n      <td>NaN</td>\n      <td>...</td>\n      <td>NaN</td>\n      <td>NaN</td>\n      <td>NaN</td>\n      <td>NaN</td>\n      <td>NaN</td>\n      <td>NaN</td>\n      <td>NaN</td>\n      <td>NaN</td>\n      <td>NaN</td>\n      <td>NaN</td>\n    </tr>\n    <tr>\n      <th>...</th>\n      <td>...</td>\n      <td>...</td>\n      <td>...</td>\n      <td>...</td>\n      <td>...</td>\n      <td>...</td>\n      <td>...</td>\n      <td>...</td>\n      <td>...</td>\n      <td>...</td>\n      <td>...</td>\n      <td>...</td>\n      <td>...</td>\n      <td>...</td>\n      <td>...</td>\n      <td>...</td>\n      <td>...</td>\n      <td>...</td>\n      <td>...</td>\n      <td>...</td>\n      <td>...</td>\n    </tr>\n    <tr>\n      <th>606</th>\n      <td>2.5</td>\n      <td>NaN</td>\n      <td>NaN</td>\n      <td>NaN</td>\n      <td>2.5</td>\n      <td>NaN</td>\n      <td>2.5</td>\n      <td>NaN</td>\n      <td>4.0</td>\n      <td>2.0</td>\n      <td>...</td>\n      <td>4.5</td>\n      <td>NaN</td>\n      <td>NaN</td>\n      <td>NaN</td>\n      <td>NaN</td>\n      <td>NaN</td>\n      <td>NaN</td>\n      <td>NaN</td>\n      <td>NaN</td>\n      <td>NaN</td>\n    </tr>\n    <tr>\n      <th>607</th>\n      <td>4.0</td>\n      <td>NaN</td>\n      <td>NaN</td>\n      <td>NaN</td>\n      <td>NaN</td>\n      <td>NaN</td>\n      <td>3.0</td>\n      <td>NaN</td>\n      <td>NaN</td>\n      <td>NaN</td>\n      <td>...</td>\n      <td>NaN</td>\n      <td>NaN</td>\n      <td>NaN</td>\n      <td>NaN</td>\n      <td>NaN</td>\n      <td>NaN</td>\n      <td>NaN</td>\n      <td>NaN</td>\n      <td>NaN</td>\n      <td>NaN</td>\n    </tr>\n    <tr>\n      <th>608</th>\n      <td>2.5</td>\n      <td>2.0</td>\n      <td>2.0</td>\n      <td>NaN</td>\n      <td>NaN</td>\n      <td>4.0</td>\n      <td>NaN</td>\n      <td>4.5</td>\n      <td>NaN</td>\n      <td>2.0</td>\n      <td>...</td>\n      <td>NaN</td>\n      <td>NaN</td>\n      <td>NaN</td>\n      <td>NaN</td>\n      <td>NaN</td>\n      <td>NaN</td>\n      <td>NaN</td>\n      <td>NaN</td>\n      <td>NaN</td>\n      <td>NaN</td>\n    </tr>\n    <tr>\n      <th>609</th>\n      <td>3.0</td>\n      <td>NaN</td>\n      <td>NaN</td>\n      <td>NaN</td>\n      <td>NaN</td>\n      <td>4.0</td>\n      <td>NaN</td>\n      <td>NaN</td>\n      <td>NaN</td>\n      <td>NaN</td>\n      <td>...</td>\n      <td>NaN</td>\n      <td>NaN</td>\n      <td>NaN</td>\n      <td>NaN</td>\n      <td>NaN</td>\n      <td>NaN</td>\n      <td>NaN</td>\n      <td>NaN</td>\n      <td>NaN</td>\n      <td>NaN</td>\n    </tr>\n    <tr>\n      <th>610</th>\n      <td>5.0</td>\n      <td>NaN</td>\n      <td>NaN</td>\n      <td>5.0</td>\n      <td>NaN</td>\n      <td>NaN</td>\n      <td>NaN</td>\n      <td>4.5</td>\n      <td>NaN</td>\n      <td>NaN</td>\n      <td>...</td>\n      <td>4.0</td>\n      <td>4.5</td>\n      <td>4.0</td>\n      <td>4.5</td>\n      <td>4.5</td>\n      <td>4.5</td>\n      <td>3.5</td>\n      <td>4.5</td>\n      <td>NaN</td>\n      <td>3.0</td>\n    </tr>\n  </tbody>\n</table>\n<p>606 rows × 450 columns</p>\n</div>"
     },
     "execution_count": 13,
     "metadata": {},
     "output_type": "execute_result"
    }
   ],
   "source": [
    "import pandas as pd\n",
    "import numpy as np\n",
    "\n",
    "df_movies = pd.read_csv('./data_2/lens-movies.csv')\n",
    "df_rating = pd.read_csv('./data_2/lens-ratings.csv')\n",
    "\n",
    "df = pd.merge(df_rating, df_movies, on='movieId')\n",
    "\n",
    "df_grpby = df \\\n",
    "     .groupby(by = ['movieId'])['rating'] \\\n",
    "     .count() \\\n",
    "     .reset_index() \\\n",
    "     .rename(columns = {'rating': 'totalRatingCount'})\n",
    "\n",
    "df = df.merge(df_grpby, left_on = 'movieId', right_on = 'movieId', how = 'left')\n",
    "\n",
    "popularity_threshold = 50\n",
    "df_popularity= df.query('totalRatingCount >= @popularity_threshold')\n",
    "\n",
    "# On crée un pivot, mais dans l'autre sens cette fois-ci\n",
    "df = df_popularity.pivot_table(index='userId',columns='movieId',values='rating')\n",
    "df"
   ]
  },
  {
   "cell_type": "code",
   "execution_count": 14,
   "outputs": [
    {
     "name": "stdout",
     "output_type": "stream",
     "text": [
      "Target user has ID : 362\n",
      "Kneighbor 362 with distance 0.0\n",
      "Kneighbor 348 with distance 0.24075940506863347\n",
      "Kneighbor 526 with distance 0.24124501896473283\n",
      "Kneighbor 387 with distance 0.3243535399650076\n",
      "Kneighbor 119 with distance 0.32592240284514273\n",
      "Kneighbor 489 with distance 0.33394544110781166\n",
      "Kneighbor 275 with distance 0.3551589717736966\n",
      "Kneighbor 453 with distance 0.35943395942350675\n",
      "Kneighbor 268 with distance 0.3783402747249822\n",
      "Kneighbor 204 with distance 0.37937860204826135\n"
     ]
    }
   ],
   "source": [
    "from scipy.sparse import csr_matrix\n",
    "from sklearn.neighbors import NearestNeighbors\n",
    "\n",
    "sparse = csr_matrix(df.fillna(0).values)\n",
    "\n",
    "K = 50\n",
    "knn = NearestNeighbors(metric='cosine', algorithm='brute', n_neighbors=K)\n",
    "knn.fit(sparse)\n",
    "\n",
    "# Random user\n",
    "rand_int = np.random.choice(df.shape[0])\n",
    "# User query\n",
    "user_query = df.iloc[rand_int, :]\n",
    "user_query_no_na = user_query.fillna(0)\n",
    "\n",
    "distances, indices = knn.kneighbors(user_query_no_na.values.reshape(1, -1))\n",
    "\n",
    "print('Target user has ID : ' + str(rand_int + 1))\n",
    "\n",
    "for i,x in enumerate(distances.flatten()[0:10]):\n",
    "    print(f'Kneighbor {indices.flatten()[i] + 1} with distance {x}')\n",
    "\n"
   ],
   "metadata": {
    "collapsed": false,
    "pycharm": {
     "name": "#%%\n"
    }
   }
  },
  {
   "cell_type": "code",
   "execution_count": 15,
   "outputs": [
    {
     "data": {
      "text/plain": "      2    3    6    7   10   11   16   17   19   21  ...  96079  99114  \\\n0   NaN  NaN  NaN  NaN  NaN  NaN  NaN  NaN  NaN  NaN  ...    NaN    NaN   \n1   NaN  NaN  NaN  3.0  NaN  NaN  NaN  2.0  NaN  NaN  ...    NaN    NaN   \n2   NaN  NaN  NaN  2.0  NaN  NaN  NaN  NaN  NaN  NaN  ...    NaN    NaN   \n3   NaN  NaN  5.0  NaN  NaN  NaN  NaN  4.0  NaN  NaN  ...    NaN    NaN   \n4   NaN  NaN  NaN  NaN  NaN  NaN  NaN  NaN  NaN  NaN  ...    NaN    NaN   \n5   NaN  4.0  3.0  3.0  NaN  NaN  NaN  NaN  NaN  NaN  ...    NaN    NaN   \n6   NaN  NaN  NaN  NaN  NaN  NaN  NaN  NaN  NaN  NaN  ...    NaN    NaN   \n7   NaN  3.0  NaN  NaN  NaN  NaN  NaN  NaN  NaN  NaN  ...    NaN    NaN   \n8   NaN  3.0  3.0  3.0  NaN  NaN  NaN  4.0  NaN  NaN  ...    NaN    NaN   \n9   NaN  NaN  NaN  4.0  NaN  NaN  NaN  5.0  NaN  NaN  ...    NaN    NaN   \n10  NaN  3.0  NaN  NaN  NaN  NaN  NaN  NaN  NaN  NaN  ...    NaN    NaN   \n11  NaN  NaN  4.0  3.0  NaN  NaN  NaN  5.0  NaN  NaN  ...    NaN    NaN   \n12  NaN  NaN  NaN  3.0  NaN  NaN  NaN  1.0  NaN  NaN  ...    NaN    NaN   \n13  NaN  3.0  4.0  3.0  NaN  NaN  NaN  NaN  NaN  NaN  ...    NaN    NaN   \n14  NaN  4.0  5.0  NaN  NaN  NaN  NaN  NaN  NaN  NaN  ...    NaN    NaN   \n15  NaN  4.0  5.0  3.0  NaN  NaN  4.0  4.0  NaN  NaN  ...    NaN    NaN   \n16  NaN  NaN  NaN  NaN  NaN  NaN  NaN  3.0  NaN  NaN  ...    NaN    NaN   \n17  NaN  3.0  3.0  NaN  NaN  NaN  NaN  NaN  NaN  NaN  ...    NaN    NaN   \n18  NaN  3.0  NaN  NaN  NaN  NaN  NaN  NaN  NaN  NaN  ...    NaN    NaN   \n19  NaN  NaN  4.0  3.0  NaN  NaN  NaN  NaN  NaN  NaN  ...    NaN    NaN   \n20  NaN  NaN  NaN  4.0  NaN  NaN  NaN  5.0  NaN  NaN  ...    NaN    NaN   \n21  NaN  3.0  NaN  NaN  NaN  NaN  NaN  5.0  NaN  4.0  ...    NaN    NaN   \n22  NaN  3.0  3.0  4.0  NaN  NaN  NaN  NaN  NaN  4.0  ...    NaN    NaN   \n23  4.0  NaN  5.0  NaN  3.0  NaN  NaN  NaN  2.0  NaN  ...    NaN    NaN   \n24  3.0  5.0  3.0  4.0  4.0  3.0  3.0  3.0  NaN  3.0  ...    NaN    NaN   \n25  NaN  NaN  NaN  4.0  4.0  NaN  NaN  3.0  NaN  NaN  ...    NaN    NaN   \n26  NaN  NaN  NaN  NaN  NaN  NaN  NaN  NaN  NaN  NaN  ...    NaN    NaN   \n27  2.0  1.0  2.0  NaN  4.0  NaN  NaN  NaN  1.0  NaN  ...    NaN    NaN   \n28  NaN  NaN  3.0  NaN  3.0  NaN  3.0  NaN  NaN  5.0  ...    NaN    NaN   \n29  4.0  NaN  NaN  4.0  NaN  NaN  NaN  NaN  4.0  NaN  ...    NaN    NaN   \n30  NaN  NaN  3.0  4.0  3.0  5.0  NaN  4.0  NaN  3.0  ...    NaN    NaN   \n31  NaN  NaN  4.0  NaN  4.0  NaN  NaN  NaN  3.0  3.0  ...    NaN    NaN   \n32  NaN  4.0  NaN  3.0  NaN  NaN  NaN  NaN  3.0  NaN  ...    NaN    NaN   \n33  NaN  NaN  5.0  NaN  NaN  NaN  5.0  4.0  NaN  NaN  ...    NaN    NaN   \n34  1.5  NaN  4.5  NaN  NaN  NaN  4.5  0.5  4.0  2.0  ...    NaN    4.0   \n35  NaN  NaN  5.0  NaN  3.0  4.0  4.0  NaN  NaN  3.0  ...    NaN    NaN   \n36  4.0  NaN  NaN  4.0  4.0  5.0  NaN  3.0  NaN  4.0  ...    NaN    NaN   \n37  NaN  NaN  NaN  NaN  NaN  NaN  NaN  NaN  NaN  NaN  ...    NaN    NaN   \n38  NaN  NaN  NaN  NaN  NaN  NaN  NaN  NaN  NaN  NaN  ...    NaN    NaN   \n39  5.0  4.0  NaN  NaN  3.0  NaN  3.0  NaN  5.0  NaN  ...    NaN    NaN   \n40  NaN  NaN  NaN  NaN  NaN  NaN  NaN  NaN  NaN  NaN  ...    NaN    NaN   \n41  NaN  NaN  5.0  NaN  4.0  NaN  NaN  NaN  NaN  4.0  ...    NaN    NaN   \n42  NaN  NaN  NaN  NaN  NaN  NaN  NaN  NaN  NaN  NaN  ...    NaN    NaN   \n43  NaN  NaN  3.0  NaN  3.0  3.0  NaN  NaN  NaN  3.0  ...    NaN    NaN   \n44  4.0  NaN  3.0  NaN  3.0  3.0  3.0  NaN  2.0  4.0  ...    NaN    NaN   \n45  4.0  NaN  NaN  NaN  NaN  NaN  NaN  NaN  NaN  NaN  ...    NaN    NaN   \n46  1.0  NaN  NaN  NaN  NaN  NaN  NaN  NaN  NaN  NaN  ...    NaN    NaN   \n47  NaN  NaN  NaN  NaN  3.0  NaN  NaN  NaN  NaN  NaN  ...    NaN    NaN   \n48  NaN  NaN  NaN  NaN  4.5  NaN  NaN  NaN  2.0  NaN  ...    4.5    NaN   \n49  NaN  NaN  5.0  NaN  3.0  NaN  NaN  NaN  NaN  NaN  ...    NaN    NaN   \n\n    106782  109374  109487  112852  116797  122904      mean  distances  \n0      NaN     NaN     NaN     NaN     NaN     NaN       NaN   0.000000  \n1      NaN     NaN     NaN     NaN     NaN     NaN  3.000000   0.240759  \n2      NaN     NaN     NaN     NaN     NaN     NaN  2.666667   0.241245  \n3      NaN     NaN     NaN     NaN     NaN     NaN  4.125000   0.324354  \n4      NaN     NaN     NaN     NaN     NaN     NaN  4.000000   0.325922  \n5      NaN     NaN     NaN     NaN     NaN     NaN  3.866667   0.333945  \n6      NaN     NaN     NaN     NaN     NaN     NaN  3.500000   0.355159  \n7      NaN     NaN     NaN     NaN     NaN     NaN  3.857143   0.359434  \n8      NaN     NaN     NaN     NaN     NaN     NaN  3.076923   0.378340  \n9      NaN     NaN     NaN     NaN     NaN     NaN  4.666667   0.379379  \n10     NaN     NaN     NaN     NaN     NaN     NaN  4.000000   0.390658  \n11     NaN     NaN     NaN     NaN     NaN     NaN  4.000000   0.406736  \n12     NaN     NaN     NaN     NaN     NaN     NaN  3.357143   0.417124  \n13     NaN     NaN     NaN     NaN     NaN     NaN  3.444444   0.427873  \n14     NaN     NaN     NaN     NaN     NaN     NaN  4.200000   0.430651  \n15     NaN     NaN     NaN     NaN     NaN     NaN  4.230769   0.443048  \n16     NaN     NaN     NaN     NaN     NaN     NaN  2.600000   0.444931  \n17     NaN     NaN     NaN     NaN     NaN     NaN  3.181818   0.445041  \n18     NaN     NaN     NaN     NaN     NaN     NaN  3.875000   0.460436  \n19     NaN     NaN     NaN     NaN     NaN     NaN  4.000000   0.489727  \n20     NaN     NaN     NaN     NaN     NaN     NaN  4.333333   0.524730  \n21     NaN     NaN     NaN     NaN     NaN     NaN  4.312500   0.562960  \n22     NaN     NaN     NaN     NaN     NaN     NaN  3.815789   0.577645  \n23     NaN     NaN     NaN     NaN     NaN     NaN  3.287671   0.612098  \n24     NaN     NaN     NaN     NaN     NaN     NaN  3.230769   0.616298  \n25     NaN     NaN     NaN     NaN     NaN     NaN  3.896552   0.623174  \n26     NaN     NaN     NaN     NaN     NaN     NaN  4.666667   0.686409  \n27     NaN     NaN     NaN     NaN     NaN     NaN  3.106383   0.699110  \n28     NaN     NaN     NaN     NaN     NaN     NaN  3.574468   0.700258  \n29     NaN     NaN     NaN     NaN     NaN     NaN  4.650000   0.705029  \n30     NaN     NaN     NaN     NaN     NaN     NaN  3.060606   0.705928  \n31     NaN     NaN     NaN     NaN     NaN     NaN  3.594595   0.708545  \n32     NaN     NaN     NaN     NaN     NaN     NaN  3.869565   0.709294  \n33     NaN     NaN     NaN     NaN     NaN     NaN  3.918367   0.733758  \n34     NaN     NaN     5.0     NaN     NaN     NaN  3.526786   0.735215  \n35     NaN     NaN     NaN     NaN     NaN     NaN  3.793814   0.745980  \n36     NaN     NaN     NaN     NaN     NaN     NaN  3.982456   0.746000  \n37     NaN     NaN     NaN     NaN     NaN     NaN  4.365385   0.746142  \n38     NaN     NaN     NaN     NaN     NaN     NaN  4.088889   0.750532  \n39     NaN     NaN     NaN     NaN     NaN     NaN  3.985294   0.751614  \n40     NaN     NaN     NaN     NaN     NaN     NaN  3.782609   0.753873  \n41     NaN     NaN     NaN     NaN     NaN     NaN  4.050000   0.756370  \n42     NaN     NaN     NaN     NaN     NaN     NaN  3.140000   0.758197  \n43     NaN     NaN     NaN     NaN     NaN     NaN  3.689655   0.762750  \n44     NaN     NaN     NaN     NaN     NaN     NaN  3.493333   0.765242  \n45     NaN     NaN     NaN     NaN     NaN     NaN  4.250000   0.765657  \n46     NaN     NaN     NaN     NaN     NaN     NaN  3.000000   0.766245  \n47     NaN     NaN     NaN     NaN     NaN     NaN  4.000000   0.771383  \n48     NaN     NaN     NaN     NaN     NaN     NaN  4.010753   0.771530  \n49     NaN     NaN     NaN     NaN     NaN     NaN  3.971429   0.777089  \n\n[50 rows x 438 columns]",
      "text/html": "<div>\n<style scoped>\n    .dataframe tbody tr th:only-of-type {\n        vertical-align: middle;\n    }\n\n    .dataframe tbody tr th {\n        vertical-align: top;\n    }\n\n    .dataframe thead th {\n        text-align: right;\n    }\n</style>\n<table border=\"1\" class=\"dataframe\">\n  <thead>\n    <tr style=\"text-align: right;\">\n      <th></th>\n      <th>2</th>\n      <th>3</th>\n      <th>6</th>\n      <th>7</th>\n      <th>10</th>\n      <th>11</th>\n      <th>16</th>\n      <th>17</th>\n      <th>19</th>\n      <th>21</th>\n      <th>...</th>\n      <th>96079</th>\n      <th>99114</th>\n      <th>106782</th>\n      <th>109374</th>\n      <th>109487</th>\n      <th>112852</th>\n      <th>116797</th>\n      <th>122904</th>\n      <th>mean</th>\n      <th>distances</th>\n    </tr>\n  </thead>\n  <tbody>\n    <tr>\n      <th>0</th>\n      <td>NaN</td>\n      <td>NaN</td>\n      <td>NaN</td>\n      <td>NaN</td>\n      <td>NaN</td>\n      <td>NaN</td>\n      <td>NaN</td>\n      <td>NaN</td>\n      <td>NaN</td>\n      <td>NaN</td>\n      <td>...</td>\n      <td>NaN</td>\n      <td>NaN</td>\n      <td>NaN</td>\n      <td>NaN</td>\n      <td>NaN</td>\n      <td>NaN</td>\n      <td>NaN</td>\n      <td>NaN</td>\n      <td>NaN</td>\n      <td>0.000000</td>\n    </tr>\n    <tr>\n      <th>1</th>\n      <td>NaN</td>\n      <td>NaN</td>\n      <td>NaN</td>\n      <td>3.0</td>\n      <td>NaN</td>\n      <td>NaN</td>\n      <td>NaN</td>\n      <td>2.0</td>\n      <td>NaN</td>\n      <td>NaN</td>\n      <td>...</td>\n      <td>NaN</td>\n      <td>NaN</td>\n      <td>NaN</td>\n      <td>NaN</td>\n      <td>NaN</td>\n      <td>NaN</td>\n      <td>NaN</td>\n      <td>NaN</td>\n      <td>3.000000</td>\n      <td>0.240759</td>\n    </tr>\n    <tr>\n      <th>2</th>\n      <td>NaN</td>\n      <td>NaN</td>\n      <td>NaN</td>\n      <td>2.0</td>\n      <td>NaN</td>\n      <td>NaN</td>\n      <td>NaN</td>\n      <td>NaN</td>\n      <td>NaN</td>\n      <td>NaN</td>\n      <td>...</td>\n      <td>NaN</td>\n      <td>NaN</td>\n      <td>NaN</td>\n      <td>NaN</td>\n      <td>NaN</td>\n      <td>NaN</td>\n      <td>NaN</td>\n      <td>NaN</td>\n      <td>2.666667</td>\n      <td>0.241245</td>\n    </tr>\n    <tr>\n      <th>3</th>\n      <td>NaN</td>\n      <td>NaN</td>\n      <td>5.0</td>\n      <td>NaN</td>\n      <td>NaN</td>\n      <td>NaN</td>\n      <td>NaN</td>\n      <td>4.0</td>\n      <td>NaN</td>\n      <td>NaN</td>\n      <td>...</td>\n      <td>NaN</td>\n      <td>NaN</td>\n      <td>NaN</td>\n      <td>NaN</td>\n      <td>NaN</td>\n      <td>NaN</td>\n      <td>NaN</td>\n      <td>NaN</td>\n      <td>4.125000</td>\n      <td>0.324354</td>\n    </tr>\n    <tr>\n      <th>4</th>\n      <td>NaN</td>\n      <td>NaN</td>\n      <td>NaN</td>\n      <td>NaN</td>\n      <td>NaN</td>\n      <td>NaN</td>\n      <td>NaN</td>\n      <td>NaN</td>\n      <td>NaN</td>\n      <td>NaN</td>\n      <td>...</td>\n      <td>NaN</td>\n      <td>NaN</td>\n      <td>NaN</td>\n      <td>NaN</td>\n      <td>NaN</td>\n      <td>NaN</td>\n      <td>NaN</td>\n      <td>NaN</td>\n      <td>4.000000</td>\n      <td>0.325922</td>\n    </tr>\n    <tr>\n      <th>5</th>\n      <td>NaN</td>\n      <td>4.0</td>\n      <td>3.0</td>\n      <td>3.0</td>\n      <td>NaN</td>\n      <td>NaN</td>\n      <td>NaN</td>\n      <td>NaN</td>\n      <td>NaN</td>\n      <td>NaN</td>\n      <td>...</td>\n      <td>NaN</td>\n      <td>NaN</td>\n      <td>NaN</td>\n      <td>NaN</td>\n      <td>NaN</td>\n      <td>NaN</td>\n      <td>NaN</td>\n      <td>NaN</td>\n      <td>3.866667</td>\n      <td>0.333945</td>\n    </tr>\n    <tr>\n      <th>6</th>\n      <td>NaN</td>\n      <td>NaN</td>\n      <td>NaN</td>\n      <td>NaN</td>\n      <td>NaN</td>\n      <td>NaN</td>\n      <td>NaN</td>\n      <td>NaN</td>\n      <td>NaN</td>\n      <td>NaN</td>\n      <td>...</td>\n      <td>NaN</td>\n      <td>NaN</td>\n      <td>NaN</td>\n      <td>NaN</td>\n      <td>NaN</td>\n      <td>NaN</td>\n      <td>NaN</td>\n      <td>NaN</td>\n      <td>3.500000</td>\n      <td>0.355159</td>\n    </tr>\n    <tr>\n      <th>7</th>\n      <td>NaN</td>\n      <td>3.0</td>\n      <td>NaN</td>\n      <td>NaN</td>\n      <td>NaN</td>\n      <td>NaN</td>\n      <td>NaN</td>\n      <td>NaN</td>\n      <td>NaN</td>\n      <td>NaN</td>\n      <td>...</td>\n      <td>NaN</td>\n      <td>NaN</td>\n      <td>NaN</td>\n      <td>NaN</td>\n      <td>NaN</td>\n      <td>NaN</td>\n      <td>NaN</td>\n      <td>NaN</td>\n      <td>3.857143</td>\n      <td>0.359434</td>\n    </tr>\n    <tr>\n      <th>8</th>\n      <td>NaN</td>\n      <td>3.0</td>\n      <td>3.0</td>\n      <td>3.0</td>\n      <td>NaN</td>\n      <td>NaN</td>\n      <td>NaN</td>\n      <td>4.0</td>\n      <td>NaN</td>\n      <td>NaN</td>\n      <td>...</td>\n      <td>NaN</td>\n      <td>NaN</td>\n      <td>NaN</td>\n      <td>NaN</td>\n      <td>NaN</td>\n      <td>NaN</td>\n      <td>NaN</td>\n      <td>NaN</td>\n      <td>3.076923</td>\n      <td>0.378340</td>\n    </tr>\n    <tr>\n      <th>9</th>\n      <td>NaN</td>\n      <td>NaN</td>\n      <td>NaN</td>\n      <td>4.0</td>\n      <td>NaN</td>\n      <td>NaN</td>\n      <td>NaN</td>\n      <td>5.0</td>\n      <td>NaN</td>\n      <td>NaN</td>\n      <td>...</td>\n      <td>NaN</td>\n      <td>NaN</td>\n      <td>NaN</td>\n      <td>NaN</td>\n      <td>NaN</td>\n      <td>NaN</td>\n      <td>NaN</td>\n      <td>NaN</td>\n      <td>4.666667</td>\n      <td>0.379379</td>\n    </tr>\n    <tr>\n      <th>10</th>\n      <td>NaN</td>\n      <td>3.0</td>\n      <td>NaN</td>\n      <td>NaN</td>\n      <td>NaN</td>\n      <td>NaN</td>\n      <td>NaN</td>\n      <td>NaN</td>\n      <td>NaN</td>\n      <td>NaN</td>\n      <td>...</td>\n      <td>NaN</td>\n      <td>NaN</td>\n      <td>NaN</td>\n      <td>NaN</td>\n      <td>NaN</td>\n      <td>NaN</td>\n      <td>NaN</td>\n      <td>NaN</td>\n      <td>4.000000</td>\n      <td>0.390658</td>\n    </tr>\n    <tr>\n      <th>11</th>\n      <td>NaN</td>\n      <td>NaN</td>\n      <td>4.0</td>\n      <td>3.0</td>\n      <td>NaN</td>\n      <td>NaN</td>\n      <td>NaN</td>\n      <td>5.0</td>\n      <td>NaN</td>\n      <td>NaN</td>\n      <td>...</td>\n      <td>NaN</td>\n      <td>NaN</td>\n      <td>NaN</td>\n      <td>NaN</td>\n      <td>NaN</td>\n      <td>NaN</td>\n      <td>NaN</td>\n      <td>NaN</td>\n      <td>4.000000</td>\n      <td>0.406736</td>\n    </tr>\n    <tr>\n      <th>12</th>\n      <td>NaN</td>\n      <td>NaN</td>\n      <td>NaN</td>\n      <td>3.0</td>\n      <td>NaN</td>\n      <td>NaN</td>\n      <td>NaN</td>\n      <td>1.0</td>\n      <td>NaN</td>\n      <td>NaN</td>\n      <td>...</td>\n      <td>NaN</td>\n      <td>NaN</td>\n      <td>NaN</td>\n      <td>NaN</td>\n      <td>NaN</td>\n      <td>NaN</td>\n      <td>NaN</td>\n      <td>NaN</td>\n      <td>3.357143</td>\n      <td>0.417124</td>\n    </tr>\n    <tr>\n      <th>13</th>\n      <td>NaN</td>\n      <td>3.0</td>\n      <td>4.0</td>\n      <td>3.0</td>\n      <td>NaN</td>\n      <td>NaN</td>\n      <td>NaN</td>\n      <td>NaN</td>\n      <td>NaN</td>\n      <td>NaN</td>\n      <td>...</td>\n      <td>NaN</td>\n      <td>NaN</td>\n      <td>NaN</td>\n      <td>NaN</td>\n      <td>NaN</td>\n      <td>NaN</td>\n      <td>NaN</td>\n      <td>NaN</td>\n      <td>3.444444</td>\n      <td>0.427873</td>\n    </tr>\n    <tr>\n      <th>14</th>\n      <td>NaN</td>\n      <td>4.0</td>\n      <td>5.0</td>\n      <td>NaN</td>\n      <td>NaN</td>\n      <td>NaN</td>\n      <td>NaN</td>\n      <td>NaN</td>\n      <td>NaN</td>\n      <td>NaN</td>\n      <td>...</td>\n      <td>NaN</td>\n      <td>NaN</td>\n      <td>NaN</td>\n      <td>NaN</td>\n      <td>NaN</td>\n      <td>NaN</td>\n      <td>NaN</td>\n      <td>NaN</td>\n      <td>4.200000</td>\n      <td>0.430651</td>\n    </tr>\n    <tr>\n      <th>15</th>\n      <td>NaN</td>\n      <td>4.0</td>\n      <td>5.0</td>\n      <td>3.0</td>\n      <td>NaN</td>\n      <td>NaN</td>\n      <td>4.0</td>\n      <td>4.0</td>\n      <td>NaN</td>\n      <td>NaN</td>\n      <td>...</td>\n      <td>NaN</td>\n      <td>NaN</td>\n      <td>NaN</td>\n      <td>NaN</td>\n      <td>NaN</td>\n      <td>NaN</td>\n      <td>NaN</td>\n      <td>NaN</td>\n      <td>4.230769</td>\n      <td>0.443048</td>\n    </tr>\n    <tr>\n      <th>16</th>\n      <td>NaN</td>\n      <td>NaN</td>\n      <td>NaN</td>\n      <td>NaN</td>\n      <td>NaN</td>\n      <td>NaN</td>\n      <td>NaN</td>\n      <td>3.0</td>\n      <td>NaN</td>\n      <td>NaN</td>\n      <td>...</td>\n      <td>NaN</td>\n      <td>NaN</td>\n      <td>NaN</td>\n      <td>NaN</td>\n      <td>NaN</td>\n      <td>NaN</td>\n      <td>NaN</td>\n      <td>NaN</td>\n      <td>2.600000</td>\n      <td>0.444931</td>\n    </tr>\n    <tr>\n      <th>17</th>\n      <td>NaN</td>\n      <td>3.0</td>\n      <td>3.0</td>\n      <td>NaN</td>\n      <td>NaN</td>\n      <td>NaN</td>\n      <td>NaN</td>\n      <td>NaN</td>\n      <td>NaN</td>\n      <td>NaN</td>\n      <td>...</td>\n      <td>NaN</td>\n      <td>NaN</td>\n      <td>NaN</td>\n      <td>NaN</td>\n      <td>NaN</td>\n      <td>NaN</td>\n      <td>NaN</td>\n      <td>NaN</td>\n      <td>3.181818</td>\n      <td>0.445041</td>\n    </tr>\n    <tr>\n      <th>18</th>\n      <td>NaN</td>\n      <td>3.0</td>\n      <td>NaN</td>\n      <td>NaN</td>\n      <td>NaN</td>\n      <td>NaN</td>\n      <td>NaN</td>\n      <td>NaN</td>\n      <td>NaN</td>\n      <td>NaN</td>\n      <td>...</td>\n      <td>NaN</td>\n      <td>NaN</td>\n      <td>NaN</td>\n      <td>NaN</td>\n      <td>NaN</td>\n      <td>NaN</td>\n      <td>NaN</td>\n      <td>NaN</td>\n      <td>3.875000</td>\n      <td>0.460436</td>\n    </tr>\n    <tr>\n      <th>19</th>\n      <td>NaN</td>\n      <td>NaN</td>\n      <td>4.0</td>\n      <td>3.0</td>\n      <td>NaN</td>\n      <td>NaN</td>\n      <td>NaN</td>\n      <td>NaN</td>\n      <td>NaN</td>\n      <td>NaN</td>\n      <td>...</td>\n      <td>NaN</td>\n      <td>NaN</td>\n      <td>NaN</td>\n      <td>NaN</td>\n      <td>NaN</td>\n      <td>NaN</td>\n      <td>NaN</td>\n      <td>NaN</td>\n      <td>4.000000</td>\n      <td>0.489727</td>\n    </tr>\n    <tr>\n      <th>20</th>\n      <td>NaN</td>\n      <td>NaN</td>\n      <td>NaN</td>\n      <td>4.0</td>\n      <td>NaN</td>\n      <td>NaN</td>\n      <td>NaN</td>\n      <td>5.0</td>\n      <td>NaN</td>\n      <td>NaN</td>\n      <td>...</td>\n      <td>NaN</td>\n      <td>NaN</td>\n      <td>NaN</td>\n      <td>NaN</td>\n      <td>NaN</td>\n      <td>NaN</td>\n      <td>NaN</td>\n      <td>NaN</td>\n      <td>4.333333</td>\n      <td>0.524730</td>\n    </tr>\n    <tr>\n      <th>21</th>\n      <td>NaN</td>\n      <td>3.0</td>\n      <td>NaN</td>\n      <td>NaN</td>\n      <td>NaN</td>\n      <td>NaN</td>\n      <td>NaN</td>\n      <td>5.0</td>\n      <td>NaN</td>\n      <td>4.0</td>\n      <td>...</td>\n      <td>NaN</td>\n      <td>NaN</td>\n      <td>NaN</td>\n      <td>NaN</td>\n      <td>NaN</td>\n      <td>NaN</td>\n      <td>NaN</td>\n      <td>NaN</td>\n      <td>4.312500</td>\n      <td>0.562960</td>\n    </tr>\n    <tr>\n      <th>22</th>\n      <td>NaN</td>\n      <td>3.0</td>\n      <td>3.0</td>\n      <td>4.0</td>\n      <td>NaN</td>\n      <td>NaN</td>\n      <td>NaN</td>\n      <td>NaN</td>\n      <td>NaN</td>\n      <td>4.0</td>\n      <td>...</td>\n      <td>NaN</td>\n      <td>NaN</td>\n      <td>NaN</td>\n      <td>NaN</td>\n      <td>NaN</td>\n      <td>NaN</td>\n      <td>NaN</td>\n      <td>NaN</td>\n      <td>3.815789</td>\n      <td>0.577645</td>\n    </tr>\n    <tr>\n      <th>23</th>\n      <td>4.0</td>\n      <td>NaN</td>\n      <td>5.0</td>\n      <td>NaN</td>\n      <td>3.0</td>\n      <td>NaN</td>\n      <td>NaN</td>\n      <td>NaN</td>\n      <td>2.0</td>\n      <td>NaN</td>\n      <td>...</td>\n      <td>NaN</td>\n      <td>NaN</td>\n      <td>NaN</td>\n      <td>NaN</td>\n      <td>NaN</td>\n      <td>NaN</td>\n      <td>NaN</td>\n      <td>NaN</td>\n      <td>3.287671</td>\n      <td>0.612098</td>\n    </tr>\n    <tr>\n      <th>24</th>\n      <td>3.0</td>\n      <td>5.0</td>\n      <td>3.0</td>\n      <td>4.0</td>\n      <td>4.0</td>\n      <td>3.0</td>\n      <td>3.0</td>\n      <td>3.0</td>\n      <td>NaN</td>\n      <td>3.0</td>\n      <td>...</td>\n      <td>NaN</td>\n      <td>NaN</td>\n      <td>NaN</td>\n      <td>NaN</td>\n      <td>NaN</td>\n      <td>NaN</td>\n      <td>NaN</td>\n      <td>NaN</td>\n      <td>3.230769</td>\n      <td>0.616298</td>\n    </tr>\n    <tr>\n      <th>25</th>\n      <td>NaN</td>\n      <td>NaN</td>\n      <td>NaN</td>\n      <td>4.0</td>\n      <td>4.0</td>\n      <td>NaN</td>\n      <td>NaN</td>\n      <td>3.0</td>\n      <td>NaN</td>\n      <td>NaN</td>\n      <td>...</td>\n      <td>NaN</td>\n      <td>NaN</td>\n      <td>NaN</td>\n      <td>NaN</td>\n      <td>NaN</td>\n      <td>NaN</td>\n      <td>NaN</td>\n      <td>NaN</td>\n      <td>3.896552</td>\n      <td>0.623174</td>\n    </tr>\n    <tr>\n      <th>26</th>\n      <td>NaN</td>\n      <td>NaN</td>\n      <td>NaN</td>\n      <td>NaN</td>\n      <td>NaN</td>\n      <td>NaN</td>\n      <td>NaN</td>\n      <td>NaN</td>\n      <td>NaN</td>\n      <td>NaN</td>\n      <td>...</td>\n      <td>NaN</td>\n      <td>NaN</td>\n      <td>NaN</td>\n      <td>NaN</td>\n      <td>NaN</td>\n      <td>NaN</td>\n      <td>NaN</td>\n      <td>NaN</td>\n      <td>4.666667</td>\n      <td>0.686409</td>\n    </tr>\n    <tr>\n      <th>27</th>\n      <td>2.0</td>\n      <td>1.0</td>\n      <td>2.0</td>\n      <td>NaN</td>\n      <td>4.0</td>\n      <td>NaN</td>\n      <td>NaN</td>\n      <td>NaN</td>\n      <td>1.0</td>\n      <td>NaN</td>\n      <td>...</td>\n      <td>NaN</td>\n      <td>NaN</td>\n      <td>NaN</td>\n      <td>NaN</td>\n      <td>NaN</td>\n      <td>NaN</td>\n      <td>NaN</td>\n      <td>NaN</td>\n      <td>3.106383</td>\n      <td>0.699110</td>\n    </tr>\n    <tr>\n      <th>28</th>\n      <td>NaN</td>\n      <td>NaN</td>\n      <td>3.0</td>\n      <td>NaN</td>\n      <td>3.0</td>\n      <td>NaN</td>\n      <td>3.0</td>\n      <td>NaN</td>\n      <td>NaN</td>\n      <td>5.0</td>\n      <td>...</td>\n      <td>NaN</td>\n      <td>NaN</td>\n      <td>NaN</td>\n      <td>NaN</td>\n      <td>NaN</td>\n      <td>NaN</td>\n      <td>NaN</td>\n      <td>NaN</td>\n      <td>3.574468</td>\n      <td>0.700258</td>\n    </tr>\n    <tr>\n      <th>29</th>\n      <td>4.0</td>\n      <td>NaN</td>\n      <td>NaN</td>\n      <td>4.0</td>\n      <td>NaN</td>\n      <td>NaN</td>\n      <td>NaN</td>\n      <td>NaN</td>\n      <td>4.0</td>\n      <td>NaN</td>\n      <td>...</td>\n      <td>NaN</td>\n      <td>NaN</td>\n      <td>NaN</td>\n      <td>NaN</td>\n      <td>NaN</td>\n      <td>NaN</td>\n      <td>NaN</td>\n      <td>NaN</td>\n      <td>4.650000</td>\n      <td>0.705029</td>\n    </tr>\n    <tr>\n      <th>30</th>\n      <td>NaN</td>\n      <td>NaN</td>\n      <td>3.0</td>\n      <td>4.0</td>\n      <td>3.0</td>\n      <td>5.0</td>\n      <td>NaN</td>\n      <td>4.0</td>\n      <td>NaN</td>\n      <td>3.0</td>\n      <td>...</td>\n      <td>NaN</td>\n      <td>NaN</td>\n      <td>NaN</td>\n      <td>NaN</td>\n      <td>NaN</td>\n      <td>NaN</td>\n      <td>NaN</td>\n      <td>NaN</td>\n      <td>3.060606</td>\n      <td>0.705928</td>\n    </tr>\n    <tr>\n      <th>31</th>\n      <td>NaN</td>\n      <td>NaN</td>\n      <td>4.0</td>\n      <td>NaN</td>\n      <td>4.0</td>\n      <td>NaN</td>\n      <td>NaN</td>\n      <td>NaN</td>\n      <td>3.0</td>\n      <td>3.0</td>\n      <td>...</td>\n      <td>NaN</td>\n      <td>NaN</td>\n      <td>NaN</td>\n      <td>NaN</td>\n      <td>NaN</td>\n      <td>NaN</td>\n      <td>NaN</td>\n      <td>NaN</td>\n      <td>3.594595</td>\n      <td>0.708545</td>\n    </tr>\n    <tr>\n      <th>32</th>\n      <td>NaN</td>\n      <td>4.0</td>\n      <td>NaN</td>\n      <td>3.0</td>\n      <td>NaN</td>\n      <td>NaN</td>\n      <td>NaN</td>\n      <td>NaN</td>\n      <td>3.0</td>\n      <td>NaN</td>\n      <td>...</td>\n      <td>NaN</td>\n      <td>NaN</td>\n      <td>NaN</td>\n      <td>NaN</td>\n      <td>NaN</td>\n      <td>NaN</td>\n      <td>NaN</td>\n      <td>NaN</td>\n      <td>3.869565</td>\n      <td>0.709294</td>\n    </tr>\n    <tr>\n      <th>33</th>\n      <td>NaN</td>\n      <td>NaN</td>\n      <td>5.0</td>\n      <td>NaN</td>\n      <td>NaN</td>\n      <td>NaN</td>\n      <td>5.0</td>\n      <td>4.0</td>\n      <td>NaN</td>\n      <td>NaN</td>\n      <td>...</td>\n      <td>NaN</td>\n      <td>NaN</td>\n      <td>NaN</td>\n      <td>NaN</td>\n      <td>NaN</td>\n      <td>NaN</td>\n      <td>NaN</td>\n      <td>NaN</td>\n      <td>3.918367</td>\n      <td>0.733758</td>\n    </tr>\n    <tr>\n      <th>34</th>\n      <td>1.5</td>\n      <td>NaN</td>\n      <td>4.5</td>\n      <td>NaN</td>\n      <td>NaN</td>\n      <td>NaN</td>\n      <td>4.5</td>\n      <td>0.5</td>\n      <td>4.0</td>\n      <td>2.0</td>\n      <td>...</td>\n      <td>NaN</td>\n      <td>4.0</td>\n      <td>NaN</td>\n      <td>NaN</td>\n      <td>5.0</td>\n      <td>NaN</td>\n      <td>NaN</td>\n      <td>NaN</td>\n      <td>3.526786</td>\n      <td>0.735215</td>\n    </tr>\n    <tr>\n      <th>35</th>\n      <td>NaN</td>\n      <td>NaN</td>\n      <td>5.0</td>\n      <td>NaN</td>\n      <td>3.0</td>\n      <td>4.0</td>\n      <td>4.0</td>\n      <td>NaN</td>\n      <td>NaN</td>\n      <td>3.0</td>\n      <td>...</td>\n      <td>NaN</td>\n      <td>NaN</td>\n      <td>NaN</td>\n      <td>NaN</td>\n      <td>NaN</td>\n      <td>NaN</td>\n      <td>NaN</td>\n      <td>NaN</td>\n      <td>3.793814</td>\n      <td>0.745980</td>\n    </tr>\n    <tr>\n      <th>36</th>\n      <td>4.0</td>\n      <td>NaN</td>\n      <td>NaN</td>\n      <td>4.0</td>\n      <td>4.0</td>\n      <td>5.0</td>\n      <td>NaN</td>\n      <td>3.0</td>\n      <td>NaN</td>\n      <td>4.0</td>\n      <td>...</td>\n      <td>NaN</td>\n      <td>NaN</td>\n      <td>NaN</td>\n      <td>NaN</td>\n      <td>NaN</td>\n      <td>NaN</td>\n      <td>NaN</td>\n      <td>NaN</td>\n      <td>3.982456</td>\n      <td>0.746000</td>\n    </tr>\n    <tr>\n      <th>37</th>\n      <td>NaN</td>\n      <td>NaN</td>\n      <td>NaN</td>\n      <td>NaN</td>\n      <td>NaN</td>\n      <td>NaN</td>\n      <td>NaN</td>\n      <td>NaN</td>\n      <td>NaN</td>\n      <td>NaN</td>\n      <td>...</td>\n      <td>NaN</td>\n      <td>NaN</td>\n      <td>NaN</td>\n      <td>NaN</td>\n      <td>NaN</td>\n      <td>NaN</td>\n      <td>NaN</td>\n      <td>NaN</td>\n      <td>4.365385</td>\n      <td>0.746142</td>\n    </tr>\n    <tr>\n      <th>38</th>\n      <td>NaN</td>\n      <td>NaN</td>\n      <td>NaN</td>\n      <td>NaN</td>\n      <td>NaN</td>\n      <td>NaN</td>\n      <td>NaN</td>\n      <td>NaN</td>\n      <td>NaN</td>\n      <td>NaN</td>\n      <td>...</td>\n      <td>NaN</td>\n      <td>NaN</td>\n      <td>NaN</td>\n      <td>NaN</td>\n      <td>NaN</td>\n      <td>NaN</td>\n      <td>NaN</td>\n      <td>NaN</td>\n      <td>4.088889</td>\n      <td>0.750532</td>\n    </tr>\n    <tr>\n      <th>39</th>\n      <td>5.0</td>\n      <td>4.0</td>\n      <td>NaN</td>\n      <td>NaN</td>\n      <td>3.0</td>\n      <td>NaN</td>\n      <td>3.0</td>\n      <td>NaN</td>\n      <td>5.0</td>\n      <td>NaN</td>\n      <td>...</td>\n      <td>NaN</td>\n      <td>NaN</td>\n      <td>NaN</td>\n      <td>NaN</td>\n      <td>NaN</td>\n      <td>NaN</td>\n      <td>NaN</td>\n      <td>NaN</td>\n      <td>3.985294</td>\n      <td>0.751614</td>\n    </tr>\n    <tr>\n      <th>40</th>\n      <td>NaN</td>\n      <td>NaN</td>\n      <td>NaN</td>\n      <td>NaN</td>\n      <td>NaN</td>\n      <td>NaN</td>\n      <td>NaN</td>\n      <td>NaN</td>\n      <td>NaN</td>\n      <td>NaN</td>\n      <td>...</td>\n      <td>NaN</td>\n      <td>NaN</td>\n      <td>NaN</td>\n      <td>NaN</td>\n      <td>NaN</td>\n      <td>NaN</td>\n      <td>NaN</td>\n      <td>NaN</td>\n      <td>3.782609</td>\n      <td>0.753873</td>\n    </tr>\n    <tr>\n      <th>41</th>\n      <td>NaN</td>\n      <td>NaN</td>\n      <td>5.0</td>\n      <td>NaN</td>\n      <td>4.0</td>\n      <td>NaN</td>\n      <td>NaN</td>\n      <td>NaN</td>\n      <td>NaN</td>\n      <td>4.0</td>\n      <td>...</td>\n      <td>NaN</td>\n      <td>NaN</td>\n      <td>NaN</td>\n      <td>NaN</td>\n      <td>NaN</td>\n      <td>NaN</td>\n      <td>NaN</td>\n      <td>NaN</td>\n      <td>4.050000</td>\n      <td>0.756370</td>\n    </tr>\n    <tr>\n      <th>42</th>\n      <td>NaN</td>\n      <td>NaN</td>\n      <td>NaN</td>\n      <td>NaN</td>\n      <td>NaN</td>\n      <td>NaN</td>\n      <td>NaN</td>\n      <td>NaN</td>\n      <td>NaN</td>\n      <td>NaN</td>\n      <td>...</td>\n      <td>NaN</td>\n      <td>NaN</td>\n      <td>NaN</td>\n      <td>NaN</td>\n      <td>NaN</td>\n      <td>NaN</td>\n      <td>NaN</td>\n      <td>NaN</td>\n      <td>3.140000</td>\n      <td>0.758197</td>\n    </tr>\n    <tr>\n      <th>43</th>\n      <td>NaN</td>\n      <td>NaN</td>\n      <td>3.0</td>\n      <td>NaN</td>\n      <td>3.0</td>\n      <td>3.0</td>\n      <td>NaN</td>\n      <td>NaN</td>\n      <td>NaN</td>\n      <td>3.0</td>\n      <td>...</td>\n      <td>NaN</td>\n      <td>NaN</td>\n      <td>NaN</td>\n      <td>NaN</td>\n      <td>NaN</td>\n      <td>NaN</td>\n      <td>NaN</td>\n      <td>NaN</td>\n      <td>3.689655</td>\n      <td>0.762750</td>\n    </tr>\n    <tr>\n      <th>44</th>\n      <td>4.0</td>\n      <td>NaN</td>\n      <td>3.0</td>\n      <td>NaN</td>\n      <td>3.0</td>\n      <td>3.0</td>\n      <td>3.0</td>\n      <td>NaN</td>\n      <td>2.0</td>\n      <td>4.0</td>\n      <td>...</td>\n      <td>NaN</td>\n      <td>NaN</td>\n      <td>NaN</td>\n      <td>NaN</td>\n      <td>NaN</td>\n      <td>NaN</td>\n      <td>NaN</td>\n      <td>NaN</td>\n      <td>3.493333</td>\n      <td>0.765242</td>\n    </tr>\n    <tr>\n      <th>45</th>\n      <td>4.0</td>\n      <td>NaN</td>\n      <td>NaN</td>\n      <td>NaN</td>\n      <td>NaN</td>\n      <td>NaN</td>\n      <td>NaN</td>\n      <td>NaN</td>\n      <td>NaN</td>\n      <td>NaN</td>\n      <td>...</td>\n      <td>NaN</td>\n      <td>NaN</td>\n      <td>NaN</td>\n      <td>NaN</td>\n      <td>NaN</td>\n      <td>NaN</td>\n      <td>NaN</td>\n      <td>NaN</td>\n      <td>4.250000</td>\n      <td>0.765657</td>\n    </tr>\n    <tr>\n      <th>46</th>\n      <td>1.0</td>\n      <td>NaN</td>\n      <td>NaN</td>\n      <td>NaN</td>\n      <td>NaN</td>\n      <td>NaN</td>\n      <td>NaN</td>\n      <td>NaN</td>\n      <td>NaN</td>\n      <td>NaN</td>\n      <td>...</td>\n      <td>NaN</td>\n      <td>NaN</td>\n      <td>NaN</td>\n      <td>NaN</td>\n      <td>NaN</td>\n      <td>NaN</td>\n      <td>NaN</td>\n      <td>NaN</td>\n      <td>3.000000</td>\n      <td>0.766245</td>\n    </tr>\n    <tr>\n      <th>47</th>\n      <td>NaN</td>\n      <td>NaN</td>\n      <td>NaN</td>\n      <td>NaN</td>\n      <td>3.0</td>\n      <td>NaN</td>\n      <td>NaN</td>\n      <td>NaN</td>\n      <td>NaN</td>\n      <td>NaN</td>\n      <td>...</td>\n      <td>NaN</td>\n      <td>NaN</td>\n      <td>NaN</td>\n      <td>NaN</td>\n      <td>NaN</td>\n      <td>NaN</td>\n      <td>NaN</td>\n      <td>NaN</td>\n      <td>4.000000</td>\n      <td>0.771383</td>\n    </tr>\n    <tr>\n      <th>48</th>\n      <td>NaN</td>\n      <td>NaN</td>\n      <td>NaN</td>\n      <td>NaN</td>\n      <td>4.5</td>\n      <td>NaN</td>\n      <td>NaN</td>\n      <td>NaN</td>\n      <td>2.0</td>\n      <td>NaN</td>\n      <td>...</td>\n      <td>4.5</td>\n      <td>NaN</td>\n      <td>NaN</td>\n      <td>NaN</td>\n      <td>NaN</td>\n      <td>NaN</td>\n      <td>NaN</td>\n      <td>NaN</td>\n      <td>4.010753</td>\n      <td>0.771530</td>\n    </tr>\n    <tr>\n      <th>49</th>\n      <td>NaN</td>\n      <td>NaN</td>\n      <td>5.0</td>\n      <td>NaN</td>\n      <td>3.0</td>\n      <td>NaN</td>\n      <td>NaN</td>\n      <td>NaN</td>\n      <td>NaN</td>\n      <td>NaN</td>\n      <td>...</td>\n      <td>NaN</td>\n      <td>NaN</td>\n      <td>NaN</td>\n      <td>NaN</td>\n      <td>NaN</td>\n      <td>NaN</td>\n      <td>NaN</td>\n      <td>NaN</td>\n      <td>3.971429</td>\n      <td>0.777089</td>\n    </tr>\n  </tbody>\n</table>\n<p>50 rows × 438 columns</p>\n</div>"
     },
     "execution_count": 15,
     "metadata": {},
     "output_type": "execute_result"
    }
   ],
   "source": [
    "def note_matrix(df, user_query, K):\n",
    "    notes_matrice = df.iloc[indices.reshape(K, )]\n",
    "    notes_matrice_np = notes_matrice.to_numpy()\n",
    "    user_mask = np.isnan(user_query)\n",
    "    user_mask_np = user_mask.to_numpy().reshape((450,))\n",
    "    columns_index = notes_matrice.columns.to_numpy()\n",
    "    columns_index = columns_index[user_mask_np]\n",
    "    notes_matrice_np = notes_matrice_np[:, user_mask_np]\n",
    "\n",
    "    return pd.DataFrame(notes_matrice_np, columns=columns_index)\n",
    "\n",
    "# Let's build our main matrix\n",
    "\n",
    "note_matrix = note_matrix(df, user_query, K)\n",
    "note_matrix['mean'] = note_matrix.agg(['mean'], axis=1)\n",
    "\n",
    "distance_serie = pd.Series(distances.reshape((K,)))\n",
    "note_matrix['distances'] = distance_serie\n",
    "\n",
    "note_matrix"
   ],
   "metadata": {
    "collapsed": false,
    "pycharm": {
     "name": "#%%\n"
    }
   }
  },
  {
   "cell_type": "code",
   "execution_count": 16,
   "outputs": [],
   "source": [
    "def predict_notes(\n",
    "    item_notes,\n",
    "    distances,\n",
    "    mean_users_notes,\n",
    "    mean_target_notes):\n",
    "\n",
    "    item_notes = np.array(item_notes)\n",
    "\n",
    "    # We need to apply a mask, in order to\n",
    "    # do calculation only on available ratings :\n",
    "    mask = ~np.isnan(item_notes)\n",
    "    item_notes = item_notes[mask]\n",
    "    mean_users_notes = mean_users_notes.to_numpy()[mask]\n",
    "    distances = distances.to_numpy()[mask]\n",
    "\n",
    "    # Take the inverse of distance, so we give more\n",
    "    # weight to closer vectors.\n",
    "    distances = 1 - distances\n",
    "\n",
    "    weighted_notes = item_notes - mean_users_notes\n",
    "    # mean_target_notes is our constant\n",
    "    return mean_target_notes +\\\n",
    "        np.dot(distances, weighted_notes) / np.sum(np.abs(distances))"
   ],
   "metadata": {
    "collapsed": false,
    "pycharm": {
     "name": "#%%\n"
    }
   }
  },
  {
   "cell_type": "code",
   "execution_count": 17,
   "outputs": [
    {
     "name": "stderr",
     "output_type": "stream",
     "text": [
      "/tmp/ipykernel_12705/2311525962.py:23: RuntimeWarning: invalid value encountered in double_scalars\n",
      "  np.dot(distances, weighted_notes) / np.sum(np.abs(distances))\n"
     ]
    },
    {
     "data": {
      "text/plain": "array([3.78191063, 3.73568463, 4.34730216, 3.7325709 , 3.99857397,\n       4.45240736, 4.08235676, 3.97281937, 3.28390823, 3.98540789,\n       4.28271734, 4.79462905, 4.14880813, 3.64395202, 4.44079817,\n       3.16040587, 4.42992311, 4.22198365, 2.43348007, 4.13655736,\n       4.44117613, 4.30801442, 3.88872727, 4.55661656, 3.33232638,\n       3.08224987, 3.39491301, 4.29278347, 3.96157433, 4.22941552,\n       3.6644766 , 3.51664063, 3.30932041, 3.60322292, 3.16459782,\n       4.20968422, 4.11589404, 3.36949378, 3.78188525, 4.21155961,\n       4.33878081, 2.89491551, 4.24831605, 3.89891767, 4.30501872,\n       4.06184851, 3.85347271, 4.09557434, 4.89486263, 3.77795863,\n       3.98800113, 4.12698164, 3.73988246, 3.46113239, 4.30746314,\n       4.11617754, 3.52463405, 4.40298023, 3.8166758 , 4.23303245,\n       4.06040918, 3.82248567, 4.07599191, 4.25131368, 3.84827218,\n       3.78759063, 3.7537247 , 3.73593422, 2.94309604, 3.31459108,\n       4.30532576, 3.44751773, 4.01578814, 4.54801798, 3.59590673,\n       4.26448512, 4.66145053, 4.02871493, 3.75302405, 4.33779196,\n       3.8196701 , 3.54968174, 4.75853006, 4.19339031, 4.99617452,\n       4.05102744, 3.54177404, 3.86998729, 4.36626097, 2.93973725,\n       3.84766611, 4.45834289, 4.68020164, 4.10106043, 3.90628532,\n       4.65118729, 3.85742299, 4.28080445, 3.90722523, 3.68891204,\n       4.80752675, 3.97049468, 3.83071294, 4.08974549, 5.31756591,\n       3.50685008, 3.19863676, 3.69524099, 4.23153984, 4.55615369,\n       5.45320197, 5.03647416, 4.77975975, 4.06591135, 4.3894747 ,\n       4.46325425, 4.34904271, 3.7653852 , 4.15303479, 4.64671392,\n       4.42268909, 3.48594502, 4.68509802, 4.59733821, 4.11476424,\n       4.63337816, 4.31084398, 4.17921815, 4.98557363, 3.86633414,\n       4.69576483, 4.61009272, 5.05985746, 4.28214593, 4.3858583 ,\n       4.01318894, 4.34904271, 3.99473575, 5.160401  , 4.80224866,\n       5.38219455, 4.6345336 , 3.96006372, 4.34036027, 3.96575018,\n       4.5251551 , 4.29139109, 4.41299158, 4.06364422, 5.08255264,\n       4.36782317, 3.7579283 , 4.48311751, 4.77078721, 4.49032359,\n       4.19230553, 4.36276109, 4.45085926, 4.89699397, 4.27874308,\n       4.42509873, 5.51749794, 4.85568342, 3.74355404, 4.26790423,\n       4.06908704, 4.13939241, 4.57301003, 3.12753119, 3.909136  ,\n       4.55808359, 4.29914071, 4.27049096, 4.00905482, 4.26110814,\n       5.160401  , 4.9681536 , 3.81885832, 3.75703504, 4.45809778,\n       3.12344016, 3.90163708, 3.56614428, 4.47640686, 4.48420706,\n       4.07543831, 4.67323471, 4.65318956, 4.57466747, 5.96103896,\n       5.33845696, 4.03647416, 4.78476089, 4.35018388, 4.30180961,\n       3.94761127, 3.90365956,        nan, 4.09320147, 4.7998208 ,\n       4.60500576, 4.08371629, 3.66106694, 4.89285714, 3.89132172,\n       4.62002119, 4.61633801, 3.77932696, 3.81885832, 4.09076568,\n       3.69647339, 5.08944278, 3.15487494,        nan, 4.22019695,\n       5.45320197, 3.22019695, 4.03647416, 4.87939231, 3.03647416,\n       3.77468234, 4.77932696, 4.22019695, 4.2258893 , 3.89758697,\n       3.26771218, 5.45320197, 4.27747253, 4.26386044, 4.27550744,\n              nan, 4.46232946, 4.22019695, 4.09320147, 4.0064224 ,\n       3.160401  , 4.03474637,        nan, 4.07869178,        nan,\n       4.45320197, 3.77932696, 4.05931705, 4.77932696, 4.89285714,\n       3.14285714, 2.70180976,        nan, 6.03647416, 4.05039338,\n       2.33590703, 3.97351307, 1.49111922,        nan, 4.83082206,\n       4.21512655, 5.45320197, 4.37392044, 4.26414939, 4.4644845 ,\n       4.19394311, 4.4280206 , 3.86044748, 4.67870556, 4.33845696,\n       2.99513143, 3.78476089, 2.53406331, 3.160401  , 4.45320197,\n       4.96437197, 5.27651888, 3.45320197, 4.63646645, 3.45320197,\n       5.00285714, 3.84925978, 4.8101707 ,        nan, 2.89897657,\n       3.88446378,        nan, 3.66106694, 4.8308379 ,        nan,\n       4.40587167, 4.61607143, 3.89285714, 3.2258893 ,        nan,\n       4.00285714, 4.36024845,        nan, 2.36024845,        nan,\n       4.13210445,        nan, 5.50285714,        nan,        nan,\n       4.36024845,        nan,        nan, 4.50285714, 5.13210445,\n              nan,        nan,        nan, 4.06564852,        nan,\n              nan,        nan, 3.89285714,        nan,        nan,\n              nan,        nan,        nan, 4.15971652, 3.50285714,\n       4.63990747, 3.50285714, 5.27299337, 4.82273679, 5.13210445,\n       3.89285714, 2.50285714,        nan, 3.53729541, 5.13210445,\n       5.13210445,        nan,        nan,        nan,        nan,\n              nan, 3.00285714, 4.79769558,        nan, 3.79438369,\n              nan,        nan, 3.63210445,        nan, 4.00285714,\n              nan,        nan, 2.00285714, 3.00285714,        nan,\n              nan,        nan,        nan,        nan,        nan,\n              nan, 5.11758405, 2.63210445,        nan,        nan,\n              nan, 4.50285714,        nan,        nan,        nan,\n              nan, 5.13210445,        nan, 3.82273679,        nan,\n              nan,        nan, 5.00285714, 4.00285714,        nan,\n       4.13210445,        nan, 3.00285714, 4.13210445, 5.50285714,\n              nan, 3.00285714, 5.00285714,        nan, 2.00285714,\n              nan, 4.00285714,        nan, 4.63210445,        nan,\n              nan, 4.55147197,        nan,        nan,        nan,\n              nan,        nan,        nan,        nan, 5.13210445,\n              nan,        nan, 4.27747253,        nan, 5.61607143,\n              nan,        nan, 4.63210445,        nan, 5.11607143,\n              nan, 4.61607143,        nan,        nan, 4.11607143,\n              nan, 4.61607143,        nan,        nan,        nan,\n              nan, 4.66030947,        nan,        nan,        nan,\n              nan,        nan, 5.61607143, 4.63210445, 4.61607143,\n              nan,        nan, 5.61607143,        nan,        nan,\n              nan])"
     },
     "execution_count": 17,
     "metadata": {},
     "output_type": "execute_result"
    }
   ],
   "source": [
    "# Transpose for allowing itertuples, and remove user column :\n",
    "note_matrix_transposed = note_matrix.transpose().iloc[:,1:]\n",
    "\n",
    "# Isolate distance and mean rows :\n",
    "distances = note_matrix_transposed.iloc[-1,:]\n",
    "mean = note_matrix_transposed.iloc[-2,:]\n",
    "\n",
    "# Remove distance/mean rows since we don't need them anymore :\n",
    "note_matrix_cleaned = note_matrix_transposed.iloc[:-2,:]\n",
    "\n",
    "user_mean = user_query.mean()\n",
    "\n",
    "predictions = []\n",
    "# Here we will iterate over each movie,\n",
    "# and get a rating prediction, only if\n",
    "# the iterated movie was noted by at\n",
    "# least one neighbor :\n",
    "for row in note_matrix_cleaned.itertuples(index=False):\n",
    "    predictions.append(predict_notes(row, distances, mean, user_mean))\n",
    "\n",
    "predictions = np.array(predictions)\n",
    "predictions"
   ],
   "metadata": {
    "collapsed": false,
    "pycharm": {
     "name": "#%%\n"
    }
   }
  },
  {
   "cell_type": "code",
   "execution_count": 18,
   "outputs": [
    {
     "name": "stderr",
     "output_type": "stream",
     "text": [
      "/tmp/ipykernel_12705/1778805541.py:2: SettingWithCopyWarning: \n",
      "A value is trying to be set on a copy of a slice from a DataFrame.\n",
      "Try using .loc[row_indexer,col_indexer] = value instead\n",
      "\n",
      "See the caveats in the documentation: https://pandas.pydata.org/pandas-docs/stable/user_guide/indexing.html#returning-a-view-versus-a-copy\n",
      "  note_matrix_cleaned['predicted'] = predictions\n"
     ]
    },
    {
     "data": {
      "text/plain": "                                                     title  \\\nmovieId                                                      \n2699                                  Arachnophobia (1990)   \n1639                                    Chasing Amy (1997)   \n109487                                 Interstellar (2014)   \n58559                              Dark Knight, The (2008)   \n91529                        Dark Knight Rises, The (2012)   \n1288                             This Is Spinal Tap (1984)   \n35836                       40-Year-Old Virgin, The (2005)   \n3996     Crouching Tiger, Hidden Dragon (Wo hu cang lon...   \n2324            Life Is Beautiful (La Vita è bella) (1997)   \n908                              North by Northwest (1959)   \n\n                                            genres  \nmovieId                                             \n2699                                 Comedy|Horror  \n1639                          Comedy|Drama|Romance  \n109487                                 Sci-Fi|IMAX  \n58559                      Action|Crime|Drama|IMAX  \n91529                  Action|Adventure|Crime|IMAX  \n1288                                        Comedy  \n35836                               Comedy|Romance  \n3996                          Action|Drama|Romance  \n2324                      Comedy|Drama|Romance|War  \n908      Action|Adventure|Mystery|Romance|Thriller  ",
      "text/html": "<div>\n<style scoped>\n    .dataframe tbody tr th:only-of-type {\n        vertical-align: middle;\n    }\n\n    .dataframe tbody tr th {\n        vertical-align: top;\n    }\n\n    .dataframe thead th {\n        text-align: right;\n    }\n</style>\n<table border=\"1\" class=\"dataframe\">\n  <thead>\n    <tr style=\"text-align: right;\">\n      <th></th>\n      <th>title</th>\n      <th>genres</th>\n    </tr>\n    <tr>\n      <th>movieId</th>\n      <th></th>\n      <th></th>\n    </tr>\n  </thead>\n  <tbody>\n    <tr>\n      <th>2699</th>\n      <td>Arachnophobia (1990)</td>\n      <td>Comedy|Horror</td>\n    </tr>\n    <tr>\n      <th>1639</th>\n      <td>Chasing Amy (1997)</td>\n      <td>Comedy|Drama|Romance</td>\n    </tr>\n    <tr>\n      <th>109487</th>\n      <td>Interstellar (2014)</td>\n      <td>Sci-Fi|IMAX</td>\n    </tr>\n    <tr>\n      <th>58559</th>\n      <td>Dark Knight, The (2008)</td>\n      <td>Action|Crime|Drama|IMAX</td>\n    </tr>\n    <tr>\n      <th>91529</th>\n      <td>Dark Knight Rises, The (2012)</td>\n      <td>Action|Adventure|Crime|IMAX</td>\n    </tr>\n    <tr>\n      <th>1288</th>\n      <td>This Is Spinal Tap (1984)</td>\n      <td>Comedy</td>\n    </tr>\n    <tr>\n      <th>35836</th>\n      <td>40-Year-Old Virgin, The (2005)</td>\n      <td>Comedy|Romance</td>\n    </tr>\n    <tr>\n      <th>3996</th>\n      <td>Crouching Tiger, Hidden Dragon (Wo hu cang lon...</td>\n      <td>Action|Drama|Romance</td>\n    </tr>\n    <tr>\n      <th>2324</th>\n      <td>Life Is Beautiful (La Vita è bella) (1997)</td>\n      <td>Comedy|Drama|Romance|War</td>\n    </tr>\n    <tr>\n      <th>908</th>\n      <td>North by Northwest (1959)</td>\n      <td>Action|Adventure|Mystery|Romance|Thriller</td>\n    </tr>\n  </tbody>\n</table>\n</div>"
     },
     "execution_count": 18,
     "metadata": {},
     "output_type": "execute_result"
    }
   ],
   "source": [
    "# Add predicted values as new column\n",
    "note_matrix_cleaned['predicted'] = predictions\n",
    "\n",
    "# Top ten best predicted notes\n",
    "top_ten_predicted = note_matrix_cleaned.sort_values('predicted', ascending=False).head(n=10)\n",
    "\n",
    "# Print movies title\n",
    "index = top_ten_predicted.index.to_numpy().astype('int64')\n",
    "df_movies_indexed = df_movies.set_index('movieId')\n",
    "results = df_movies_indexed.loc[index]\n",
    "\n",
    "results"
   ],
   "metadata": {
    "collapsed": false,
    "pycharm": {
     "name": "#%%\n"
    }
   }
  },
  {
   "cell_type": "code",
   "execution_count": 19,
   "outputs": [
    {
     "data": {
      "text/plain": "                                                     title  \\\nmovieId                                                      \n1                                         Toy Story (1995)   \n32               Twelve Monkeys (a.k.a. 12 Monkeys) (1995)   \n95                                     Broken Arrow (1996)   \n141                                   Birdcage, The (1996)   \n260              Star Wars: Episode IV - A New Hope (1977)   \n648                             Mission: Impossible (1996)   \n733                                       Rock, The (1996)   \n736                                         Twister (1996)   \n780                   Independence Day (a.k.a. ID4) (1996)   \n786                                          Eraser (1996)   \n858                                  Godfather, The (1972)   \n1073            Willy Wonka & the Chocolate Factory (1971)   \n1210     Star Wars: Episode VI - Return of the Jedi (1983)   \n1356                       Star Trek: First Contact (1996)   \n\n                                              genres  note  \nmovieId                                                     \n1        Adventure|Animation|Children|Comedy|Fantasy   5.0  \n32                           Mystery|Sci-Fi|Thriller   3.0  \n95                         Action|Adventure|Thriller   5.0  \n141                                           Comedy   4.0  \n260                          Action|Adventure|Sci-Fi   4.0  \n648                Action|Adventure|Mystery|Thriller   3.0  \n733                        Action|Adventure|Thriller   4.0  \n736                Action|Adventure|Romance|Thriller   4.0  \n780                 Action|Adventure|Sci-Fi|Thriller   5.0  \n786                            Action|Drama|Thriller   4.0  \n858                                      Crime|Drama   5.0  \n1073                 Children|Comedy|Fantasy|Musical   5.0  \n1210                         Action|Adventure|Sci-Fi   3.0  \n1356                Action|Adventure|Sci-Fi|Thriller   4.0  ",
      "text/html": "<div>\n<style scoped>\n    .dataframe tbody tr th:only-of-type {\n        vertical-align: middle;\n    }\n\n    .dataframe tbody tr th {\n        vertical-align: top;\n    }\n\n    .dataframe thead th {\n        text-align: right;\n    }\n</style>\n<table border=\"1\" class=\"dataframe\">\n  <thead>\n    <tr style=\"text-align: right;\">\n      <th></th>\n      <th>title</th>\n      <th>genres</th>\n      <th>note</th>\n    </tr>\n    <tr>\n      <th>movieId</th>\n      <th></th>\n      <th></th>\n      <th></th>\n    </tr>\n  </thead>\n  <tbody>\n    <tr>\n      <th>1</th>\n      <td>Toy Story (1995)</td>\n      <td>Adventure|Animation|Children|Comedy|Fantasy</td>\n      <td>5.0</td>\n    </tr>\n    <tr>\n      <th>32</th>\n      <td>Twelve Monkeys (a.k.a. 12 Monkeys) (1995)</td>\n      <td>Mystery|Sci-Fi|Thriller</td>\n      <td>3.0</td>\n    </tr>\n    <tr>\n      <th>95</th>\n      <td>Broken Arrow (1996)</td>\n      <td>Action|Adventure|Thriller</td>\n      <td>5.0</td>\n    </tr>\n    <tr>\n      <th>141</th>\n      <td>Birdcage, The (1996)</td>\n      <td>Comedy</td>\n      <td>4.0</td>\n    </tr>\n    <tr>\n      <th>260</th>\n      <td>Star Wars: Episode IV - A New Hope (1977)</td>\n      <td>Action|Adventure|Sci-Fi</td>\n      <td>4.0</td>\n    </tr>\n    <tr>\n      <th>648</th>\n      <td>Mission: Impossible (1996)</td>\n      <td>Action|Adventure|Mystery|Thriller</td>\n      <td>3.0</td>\n    </tr>\n    <tr>\n      <th>733</th>\n      <td>Rock, The (1996)</td>\n      <td>Action|Adventure|Thriller</td>\n      <td>4.0</td>\n    </tr>\n    <tr>\n      <th>736</th>\n      <td>Twister (1996)</td>\n      <td>Action|Adventure|Romance|Thriller</td>\n      <td>4.0</td>\n    </tr>\n    <tr>\n      <th>780</th>\n      <td>Independence Day (a.k.a. ID4) (1996)</td>\n      <td>Action|Adventure|Sci-Fi|Thriller</td>\n      <td>5.0</td>\n    </tr>\n    <tr>\n      <th>786</th>\n      <td>Eraser (1996)</td>\n      <td>Action|Drama|Thriller</td>\n      <td>4.0</td>\n    </tr>\n    <tr>\n      <th>858</th>\n      <td>Godfather, The (1972)</td>\n      <td>Crime|Drama</td>\n      <td>5.0</td>\n    </tr>\n    <tr>\n      <th>1073</th>\n      <td>Willy Wonka &amp; the Chocolate Factory (1971)</td>\n      <td>Children|Comedy|Fantasy|Musical</td>\n      <td>5.0</td>\n    </tr>\n    <tr>\n      <th>1210</th>\n      <td>Star Wars: Episode VI - Return of the Jedi (1983)</td>\n      <td>Action|Adventure|Sci-Fi</td>\n      <td>3.0</td>\n    </tr>\n    <tr>\n      <th>1356</th>\n      <td>Star Trek: First Contact (1996)</td>\n      <td>Action|Adventure|Sci-Fi|Thriller</td>\n      <td>4.0</td>\n    </tr>\n  </tbody>\n</table>\n</div>"
     },
     "execution_count": 19,
     "metadata": {},
     "output_type": "execute_result"
    }
   ],
   "source": [
    "# Let's take a look at initial notes left by user\n",
    "\n",
    "user_query_no_na = user_query.dropna()\n",
    "user_initial_notes = df_movies_indexed.loc[user_query_no_na.index.to_numpy()]\n",
    "user_initial_notes['note'] = user_query_no_na\n",
    "user_initial_notes"
   ],
   "metadata": {
    "collapsed": false,
    "pycharm": {
     "name": "#%%\n"
    }
   }
  }
 ],
 "metadata": {
  "kernelspec": {
   "display_name": "Python 3",
   "language": "python",
   "name": "python3"
  },
  "language_info": {
   "codemirror_mode": {
    "name": "ipython",
    "version": 2
   },
   "file_extension": ".py",
   "mimetype": "text/x-python",
   "name": "python",
   "nbconvert_exporter": "python",
   "pygments_lexer": "ipython2",
   "version": "2.7.6"
  }
 },
 "nbformat": 4,
 "nbformat_minor": 0
}