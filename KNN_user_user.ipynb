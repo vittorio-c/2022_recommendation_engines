{
 "cells": [
  {
   "cell_type": "markdown",
   "source": [
    "# Get data"
   ],
   "metadata": {
    "collapsed": false,
    "pycharm": {
     "name": "#%% md\n"
    }
   }
  },
  {
   "cell_type": "code",
   "execution_count": 34,
   "metadata": {
    "collapsed": true,
    "pycharm": {
     "name": "#%%\n"
    }
   },
   "outputs": [
    {
     "data": {
      "text/plain": "movieId  1       2       3       4       5       6       7       8       \\\nuserId                                                                    \n495         NaN     NaN     NaN     NaN     NaN     NaN     NaN     NaN   \n71          5.0     NaN     NaN     NaN     NaN     NaN     3.0     NaN   \n272         NaN     NaN     NaN     NaN     NaN     NaN     NaN     NaN   \n557         NaN     NaN     NaN     NaN     NaN     NaN     NaN     NaN   \n112         3.0     1.5     NaN     NaN     NaN     4.5     NaN     NaN   \n485         NaN     NaN     NaN     NaN     NaN     NaN     NaN     NaN   \n40          5.0     NaN     NaN     NaN     NaN     NaN     NaN     NaN   \n327         NaN     NaN     NaN     NaN     NaN     NaN     NaN     NaN   \n117         NaN     3.0     3.0     NaN     3.0     3.0     4.0     NaN   \n325         NaN     NaN     NaN     NaN     NaN     4.0     NaN     NaN   \n\nmovieId  9       10      ...  193565  193567  193571  193573  193579  193581  \\\nuserId                   ...                                                   \n495         NaN     NaN  ...     NaN     NaN     NaN     NaN     NaN     NaN   \n71          NaN     NaN  ...     NaN     NaN     NaN     NaN     NaN     NaN   \n272         NaN     NaN  ...     NaN     NaN     NaN     NaN     NaN     NaN   \n557         NaN     4.5  ...     NaN     NaN     NaN     NaN     NaN     NaN   \n112         NaN     NaN  ...     NaN     NaN     NaN     NaN     NaN     NaN   \n485         NaN     4.0  ...     NaN     NaN     NaN     NaN     NaN     NaN   \n40          NaN     NaN  ...     NaN     NaN     NaN     NaN     NaN     NaN   \n327         NaN     NaN  ...     NaN     NaN     NaN     NaN     NaN     NaN   \n117         NaN     3.0  ...     NaN     NaN     NaN     NaN     NaN     NaN   \n325         NaN     NaN  ...     NaN     NaN     NaN     NaN     NaN     NaN   \n\nmovieId  193583  193585  193587  193609  \nuserId                                   \n495         NaN     NaN     NaN     NaN  \n71          NaN     NaN     NaN     NaN  \n272         NaN     NaN     NaN     NaN  \n557         NaN     NaN     NaN     NaN  \n112         NaN     NaN     NaN     NaN  \n485         NaN     NaN     NaN     NaN  \n40          NaN     NaN     NaN     NaN  \n327         NaN     NaN     NaN     NaN  \n117         NaN     NaN     NaN     NaN  \n325         NaN     NaN     NaN     NaN  \n\n[10 rows x 9724 columns]",
      "text/html": "<div>\n<style scoped>\n    .dataframe tbody tr th:only-of-type {\n        vertical-align: middle;\n    }\n\n    .dataframe tbody tr th {\n        vertical-align: top;\n    }\n\n    .dataframe thead th {\n        text-align: right;\n    }\n</style>\n<table border=\"1\" class=\"dataframe\">\n  <thead>\n    <tr style=\"text-align: right;\">\n      <th>movieId</th>\n      <th>1</th>\n      <th>2</th>\n      <th>3</th>\n      <th>4</th>\n      <th>5</th>\n      <th>6</th>\n      <th>7</th>\n      <th>8</th>\n      <th>9</th>\n      <th>10</th>\n      <th>...</th>\n      <th>193565</th>\n      <th>193567</th>\n      <th>193571</th>\n      <th>193573</th>\n      <th>193579</th>\n      <th>193581</th>\n      <th>193583</th>\n      <th>193585</th>\n      <th>193587</th>\n      <th>193609</th>\n    </tr>\n    <tr>\n      <th>userId</th>\n      <th></th>\n      <th></th>\n      <th></th>\n      <th></th>\n      <th></th>\n      <th></th>\n      <th></th>\n      <th></th>\n      <th></th>\n      <th></th>\n      <th></th>\n      <th></th>\n      <th></th>\n      <th></th>\n      <th></th>\n      <th></th>\n      <th></th>\n      <th></th>\n      <th></th>\n      <th></th>\n      <th></th>\n    </tr>\n  </thead>\n  <tbody>\n    <tr>\n      <th>495</th>\n      <td>NaN</td>\n      <td>NaN</td>\n      <td>NaN</td>\n      <td>NaN</td>\n      <td>NaN</td>\n      <td>NaN</td>\n      <td>NaN</td>\n      <td>NaN</td>\n      <td>NaN</td>\n      <td>NaN</td>\n      <td>...</td>\n      <td>NaN</td>\n      <td>NaN</td>\n      <td>NaN</td>\n      <td>NaN</td>\n      <td>NaN</td>\n      <td>NaN</td>\n      <td>NaN</td>\n      <td>NaN</td>\n      <td>NaN</td>\n      <td>NaN</td>\n    </tr>\n    <tr>\n      <th>71</th>\n      <td>5.0</td>\n      <td>NaN</td>\n      <td>NaN</td>\n      <td>NaN</td>\n      <td>NaN</td>\n      <td>NaN</td>\n      <td>3.0</td>\n      <td>NaN</td>\n      <td>NaN</td>\n      <td>NaN</td>\n      <td>...</td>\n      <td>NaN</td>\n      <td>NaN</td>\n      <td>NaN</td>\n      <td>NaN</td>\n      <td>NaN</td>\n      <td>NaN</td>\n      <td>NaN</td>\n      <td>NaN</td>\n      <td>NaN</td>\n      <td>NaN</td>\n    </tr>\n    <tr>\n      <th>272</th>\n      <td>NaN</td>\n      <td>NaN</td>\n      <td>NaN</td>\n      <td>NaN</td>\n      <td>NaN</td>\n      <td>NaN</td>\n      <td>NaN</td>\n      <td>NaN</td>\n      <td>NaN</td>\n      <td>NaN</td>\n      <td>...</td>\n      <td>NaN</td>\n      <td>NaN</td>\n      <td>NaN</td>\n      <td>NaN</td>\n      <td>NaN</td>\n      <td>NaN</td>\n      <td>NaN</td>\n      <td>NaN</td>\n      <td>NaN</td>\n      <td>NaN</td>\n    </tr>\n    <tr>\n      <th>557</th>\n      <td>NaN</td>\n      <td>NaN</td>\n      <td>NaN</td>\n      <td>NaN</td>\n      <td>NaN</td>\n      <td>NaN</td>\n      <td>NaN</td>\n      <td>NaN</td>\n      <td>NaN</td>\n      <td>4.5</td>\n      <td>...</td>\n      <td>NaN</td>\n      <td>NaN</td>\n      <td>NaN</td>\n      <td>NaN</td>\n      <td>NaN</td>\n      <td>NaN</td>\n      <td>NaN</td>\n      <td>NaN</td>\n      <td>NaN</td>\n      <td>NaN</td>\n    </tr>\n    <tr>\n      <th>112</th>\n      <td>3.0</td>\n      <td>1.5</td>\n      <td>NaN</td>\n      <td>NaN</td>\n      <td>NaN</td>\n      <td>4.5</td>\n      <td>NaN</td>\n      <td>NaN</td>\n      <td>NaN</td>\n      <td>NaN</td>\n      <td>...</td>\n      <td>NaN</td>\n      <td>NaN</td>\n      <td>NaN</td>\n      <td>NaN</td>\n      <td>NaN</td>\n      <td>NaN</td>\n      <td>NaN</td>\n      <td>NaN</td>\n      <td>NaN</td>\n      <td>NaN</td>\n    </tr>\n    <tr>\n      <th>485</th>\n      <td>NaN</td>\n      <td>NaN</td>\n      <td>NaN</td>\n      <td>NaN</td>\n      <td>NaN</td>\n      <td>NaN</td>\n      <td>NaN</td>\n      <td>NaN</td>\n      <td>NaN</td>\n      <td>4.0</td>\n      <td>...</td>\n      <td>NaN</td>\n      <td>NaN</td>\n      <td>NaN</td>\n      <td>NaN</td>\n      <td>NaN</td>\n      <td>NaN</td>\n      <td>NaN</td>\n      <td>NaN</td>\n      <td>NaN</td>\n      <td>NaN</td>\n    </tr>\n    <tr>\n      <th>40</th>\n      <td>5.0</td>\n      <td>NaN</td>\n      <td>NaN</td>\n      <td>NaN</td>\n      <td>NaN</td>\n      <td>NaN</td>\n      <td>NaN</td>\n      <td>NaN</td>\n      <td>NaN</td>\n      <td>NaN</td>\n      <td>...</td>\n      <td>NaN</td>\n      <td>NaN</td>\n      <td>NaN</td>\n      <td>NaN</td>\n      <td>NaN</td>\n      <td>NaN</td>\n      <td>NaN</td>\n      <td>NaN</td>\n      <td>NaN</td>\n      <td>NaN</td>\n    </tr>\n    <tr>\n      <th>327</th>\n      <td>NaN</td>\n      <td>NaN</td>\n      <td>NaN</td>\n      <td>NaN</td>\n      <td>NaN</td>\n      <td>NaN</td>\n      <td>NaN</td>\n      <td>NaN</td>\n      <td>NaN</td>\n      <td>NaN</td>\n      <td>...</td>\n      <td>NaN</td>\n      <td>NaN</td>\n      <td>NaN</td>\n      <td>NaN</td>\n      <td>NaN</td>\n      <td>NaN</td>\n      <td>NaN</td>\n      <td>NaN</td>\n      <td>NaN</td>\n      <td>NaN</td>\n    </tr>\n    <tr>\n      <th>117</th>\n      <td>NaN</td>\n      <td>3.0</td>\n      <td>3.0</td>\n      <td>NaN</td>\n      <td>3.0</td>\n      <td>3.0</td>\n      <td>4.0</td>\n      <td>NaN</td>\n      <td>NaN</td>\n      <td>3.0</td>\n      <td>...</td>\n      <td>NaN</td>\n      <td>NaN</td>\n      <td>NaN</td>\n      <td>NaN</td>\n      <td>NaN</td>\n      <td>NaN</td>\n      <td>NaN</td>\n      <td>NaN</td>\n      <td>NaN</td>\n      <td>NaN</td>\n    </tr>\n    <tr>\n      <th>325</th>\n      <td>NaN</td>\n      <td>NaN</td>\n      <td>NaN</td>\n      <td>NaN</td>\n      <td>NaN</td>\n      <td>4.0</td>\n      <td>NaN</td>\n      <td>NaN</td>\n      <td>NaN</td>\n      <td>NaN</td>\n      <td>...</td>\n      <td>NaN</td>\n      <td>NaN</td>\n      <td>NaN</td>\n      <td>NaN</td>\n      <td>NaN</td>\n      <td>NaN</td>\n      <td>NaN</td>\n      <td>NaN</td>\n      <td>NaN</td>\n      <td>NaN</td>\n    </tr>\n  </tbody>\n</table>\n<p>10 rows × 9724 columns</p>\n</div>"
     },
     "execution_count": 34,
     "metadata": {},
     "output_type": "execute_result"
    }
   ],
   "source": [
    "import pandas as pd\n",
    "import numpy as np\n",
    "\n",
    "# We work with small dataset from MovieLens (100 000 ratings), otherwise\n",
    "# with the big one (27 000 000) computing cannot be done with panda.\n",
    "df_rating = pd.read_csv('./data_small/ratings.csv')\n",
    "\n",
    "# Crate user-item interaction matrix. Users are the main entities we\n",
    "# want to calculate distances between.\n",
    "df = df_rating.pivot_table(index='userId',columns='movieId',values='rating')\n",
    "\n",
    "df.sample(10)"
   ]
  },
  {
   "cell_type": "markdown",
   "source": [
    "# Train model"
   ],
   "metadata": {
    "collapsed": false,
    "pycharm": {
     "name": "#%% md\n"
    }
   }
  },
  {
   "cell_type": "code",
   "execution_count": 43,
   "outputs": [
    {
     "name": "stdout",
     "output_type": "stream",
     "text": [
      "Target user has ID : 310\n",
      "Its 10 first kneighbors are :\n",
      "Kneighbor 161 with distance 0.8452601762031671\n",
      "Kneighbor 488 with distance 0.8460323766538755\n",
      "Kneighbor 263 with distance 0.8467599738873776\n",
      "Kneighbor 167 with distance 0.8479687389927802\n",
      "Kneighbor 137 with distance 0.848662713755836\n",
      "Kneighbor 597 with distance 0.8487630899608007\n",
      "Kneighbor 572 with distance 0.8488948307157964\n",
      "Kneighbor 376 with distance 0.8533931606524314\n",
      "Kneighbor 487 with distance 0.8537982811390119\n",
      "Kneighbor 590 with distance 0.8541011818313784\n"
     ]
    }
   ],
   "source": [
    "from scipy.sparse import csr_matrix\n",
    "from sklearn.neighbors import NearestNeighbors\n",
    "\n",
    "sparse = csr_matrix(df.fillna(0).values)\n",
    "\n",
    "# 50 kneighbors\n",
    "K = 50\n",
    "knn = NearestNeighbors(metric='cosine', algorithm='brute', n_neighbors=K)\n",
    "knn.fit(sparse)\n",
    "\n",
    "# Random user\n",
    "rand_int = np.random.choice(df.shape[0])\n",
    "\n",
    "# User query (vector)\n",
    "user_query = df.iloc[rand_int, :]\n",
    "user_query_no_na = user_query.fillna(0)\n",
    "\n",
    "distances, indices = knn.kneighbors(user_query_no_na.values.reshape(1, -1))\n",
    "\n",
    "print('Target user has ID : ' + str(rand_int + 1))\n",
    "\n",
    "print('Its 10 first kneighbors are :')\n",
    "for i,x in enumerate(distances.flatten()[0:11]):\n",
    "    indice = int(indices.flatten()[i] + 1)\n",
    "    if indice != rand_int + 1:\n",
    "        print(f'Kneighbor {indice} with distance {x}')\n"
   ],
   "metadata": {
    "collapsed": false,
    "pycharm": {
     "name": "#%%\n"
    }
   }
  },
  {
   "cell_type": "markdown",
   "source": [
    "# Get matrix with means and distances"
   ],
   "metadata": {
    "collapsed": false,
    "pycharm": {
     "name": "#%% md\n"
    }
   }
  },
  {
   "cell_type": "code",
   "execution_count": 45,
   "outputs": [
    {
     "data": {
      "text/plain": "      1    2    3   4    5    6    7   8   9   10  ...  193571  193573  \\\n19  3.0  4.0  NaN NaN  NaN  NaN  NaN NaN NaN  NaN  ...     NaN     NaN   \n47  3.5  4.0  NaN NaN  NaN  NaN  NaN NaN NaN  NaN  ...     NaN     NaN   \n33  NaN  NaN  NaN NaN  NaN  NaN  NaN NaN NaN  NaN  ...     NaN     NaN   \n40  4.5  2.0  4.0 NaN  2.0  NaN  NaN NaN NaN  3.0  ...     NaN     NaN   \n31  NaN  NaN  NaN NaN  NaN  NaN  1.0 NaN NaN  NaN  ...     NaN     NaN   \n34  NaN  NaN  NaN NaN  NaN  NaN  NaN NaN NaN  4.5  ...     NaN     NaN   \n43  3.0  NaN  NaN NaN  NaN  4.0  NaN NaN NaN  3.5  ...     NaN     NaN   \n17  4.0  3.0  3.0 NaN  NaN  5.0  NaN NaN NaN  3.5  ...     NaN     NaN   \n30  NaN  NaN  NaN NaN  NaN  4.0  3.0 NaN NaN  NaN  ...     NaN     NaN   \n37  NaN  3.0  NaN NaN  NaN  4.0  NaN NaN NaN  3.0  ...     NaN     NaN   \n\n    193579  193581  193583  193585  193587  193609      mean  distances  \n19     NaN     NaN     NaN     NaN     NaN     NaN  3.532258   0.870842  \n47     NaN     NaN     NaN     NaN     NaN     NaN  3.536504   0.890775  \n33     NaN     NaN     NaN     NaN     NaN     NaN  2.611111   0.883993  \n40     NaN     NaN     NaN     NaN     NaN     NaN  3.145366   0.887284  \n31     NaN     NaN     NaN     NaN     NaN     NaN  2.860825   0.879982  \n34     NaN     NaN     NaN     NaN     NaN     NaN  4.486842   0.884515  \n43     NaN     NaN     NaN     NaN     NaN     NaN  3.514320   0.888648  \n17     NaN     NaN     NaN     NaN     NaN     NaN  3.404762   0.870812  \n30     NaN     NaN     NaN     NaN     NaN     NaN  3.367816   0.879648  \n37     NaN     NaN     NaN     NaN     NaN     NaN  3.534483   0.887087  \n\n[10 rows x 9662 columns]",
      "text/html": "<div>\n<style scoped>\n    .dataframe tbody tr th:only-of-type {\n        vertical-align: middle;\n    }\n\n    .dataframe tbody tr th {\n        vertical-align: top;\n    }\n\n    .dataframe thead th {\n        text-align: right;\n    }\n</style>\n<table border=\"1\" class=\"dataframe\">\n  <thead>\n    <tr style=\"text-align: right;\">\n      <th></th>\n      <th>1</th>\n      <th>2</th>\n      <th>3</th>\n      <th>4</th>\n      <th>5</th>\n      <th>6</th>\n      <th>7</th>\n      <th>8</th>\n      <th>9</th>\n      <th>10</th>\n      <th>...</th>\n      <th>193571</th>\n      <th>193573</th>\n      <th>193579</th>\n      <th>193581</th>\n      <th>193583</th>\n      <th>193585</th>\n      <th>193587</th>\n      <th>193609</th>\n      <th>mean</th>\n      <th>distances</th>\n    </tr>\n  </thead>\n  <tbody>\n    <tr>\n      <th>19</th>\n      <td>3.0</td>\n      <td>4.0</td>\n      <td>NaN</td>\n      <td>NaN</td>\n      <td>NaN</td>\n      <td>NaN</td>\n      <td>NaN</td>\n      <td>NaN</td>\n      <td>NaN</td>\n      <td>NaN</td>\n      <td>...</td>\n      <td>NaN</td>\n      <td>NaN</td>\n      <td>NaN</td>\n      <td>NaN</td>\n      <td>NaN</td>\n      <td>NaN</td>\n      <td>NaN</td>\n      <td>NaN</td>\n      <td>3.532258</td>\n      <td>0.870842</td>\n    </tr>\n    <tr>\n      <th>47</th>\n      <td>3.5</td>\n      <td>4.0</td>\n      <td>NaN</td>\n      <td>NaN</td>\n      <td>NaN</td>\n      <td>NaN</td>\n      <td>NaN</td>\n      <td>NaN</td>\n      <td>NaN</td>\n      <td>NaN</td>\n      <td>...</td>\n      <td>NaN</td>\n      <td>NaN</td>\n      <td>NaN</td>\n      <td>NaN</td>\n      <td>NaN</td>\n      <td>NaN</td>\n      <td>NaN</td>\n      <td>NaN</td>\n      <td>3.536504</td>\n      <td>0.890775</td>\n    </tr>\n    <tr>\n      <th>33</th>\n      <td>NaN</td>\n      <td>NaN</td>\n      <td>NaN</td>\n      <td>NaN</td>\n      <td>NaN</td>\n      <td>NaN</td>\n      <td>NaN</td>\n      <td>NaN</td>\n      <td>NaN</td>\n      <td>NaN</td>\n      <td>...</td>\n      <td>NaN</td>\n      <td>NaN</td>\n      <td>NaN</td>\n      <td>NaN</td>\n      <td>NaN</td>\n      <td>NaN</td>\n      <td>NaN</td>\n      <td>NaN</td>\n      <td>2.611111</td>\n      <td>0.883993</td>\n    </tr>\n    <tr>\n      <th>40</th>\n      <td>4.5</td>\n      <td>2.0</td>\n      <td>4.0</td>\n      <td>NaN</td>\n      <td>2.0</td>\n      <td>NaN</td>\n      <td>NaN</td>\n      <td>NaN</td>\n      <td>NaN</td>\n      <td>3.0</td>\n      <td>...</td>\n      <td>NaN</td>\n      <td>NaN</td>\n      <td>NaN</td>\n      <td>NaN</td>\n      <td>NaN</td>\n      <td>NaN</td>\n      <td>NaN</td>\n      <td>NaN</td>\n      <td>3.145366</td>\n      <td>0.887284</td>\n    </tr>\n    <tr>\n      <th>31</th>\n      <td>NaN</td>\n      <td>NaN</td>\n      <td>NaN</td>\n      <td>NaN</td>\n      <td>NaN</td>\n      <td>NaN</td>\n      <td>1.0</td>\n      <td>NaN</td>\n      <td>NaN</td>\n      <td>NaN</td>\n      <td>...</td>\n      <td>NaN</td>\n      <td>NaN</td>\n      <td>NaN</td>\n      <td>NaN</td>\n      <td>NaN</td>\n      <td>NaN</td>\n      <td>NaN</td>\n      <td>NaN</td>\n      <td>2.860825</td>\n      <td>0.879982</td>\n    </tr>\n    <tr>\n      <th>34</th>\n      <td>NaN</td>\n      <td>NaN</td>\n      <td>NaN</td>\n      <td>NaN</td>\n      <td>NaN</td>\n      <td>NaN</td>\n      <td>NaN</td>\n      <td>NaN</td>\n      <td>NaN</td>\n      <td>4.5</td>\n      <td>...</td>\n      <td>NaN</td>\n      <td>NaN</td>\n      <td>NaN</td>\n      <td>NaN</td>\n      <td>NaN</td>\n      <td>NaN</td>\n      <td>NaN</td>\n      <td>NaN</td>\n      <td>4.486842</td>\n      <td>0.884515</td>\n    </tr>\n    <tr>\n      <th>43</th>\n      <td>3.0</td>\n      <td>NaN</td>\n      <td>NaN</td>\n      <td>NaN</td>\n      <td>NaN</td>\n      <td>4.0</td>\n      <td>NaN</td>\n      <td>NaN</td>\n      <td>NaN</td>\n      <td>3.5</td>\n      <td>...</td>\n      <td>NaN</td>\n      <td>NaN</td>\n      <td>NaN</td>\n      <td>NaN</td>\n      <td>NaN</td>\n      <td>NaN</td>\n      <td>NaN</td>\n      <td>NaN</td>\n      <td>3.514320</td>\n      <td>0.888648</td>\n    </tr>\n    <tr>\n      <th>17</th>\n      <td>4.0</td>\n      <td>3.0</td>\n      <td>3.0</td>\n      <td>NaN</td>\n      <td>NaN</td>\n      <td>5.0</td>\n      <td>NaN</td>\n      <td>NaN</td>\n      <td>NaN</td>\n      <td>3.5</td>\n      <td>...</td>\n      <td>NaN</td>\n      <td>NaN</td>\n      <td>NaN</td>\n      <td>NaN</td>\n      <td>NaN</td>\n      <td>NaN</td>\n      <td>NaN</td>\n      <td>NaN</td>\n      <td>3.404762</td>\n      <td>0.870812</td>\n    </tr>\n    <tr>\n      <th>30</th>\n      <td>NaN</td>\n      <td>NaN</td>\n      <td>NaN</td>\n      <td>NaN</td>\n      <td>NaN</td>\n      <td>4.0</td>\n      <td>3.0</td>\n      <td>NaN</td>\n      <td>NaN</td>\n      <td>NaN</td>\n      <td>...</td>\n      <td>NaN</td>\n      <td>NaN</td>\n      <td>NaN</td>\n      <td>NaN</td>\n      <td>NaN</td>\n      <td>NaN</td>\n      <td>NaN</td>\n      <td>NaN</td>\n      <td>3.367816</td>\n      <td>0.879648</td>\n    </tr>\n    <tr>\n      <th>37</th>\n      <td>NaN</td>\n      <td>3.0</td>\n      <td>NaN</td>\n      <td>NaN</td>\n      <td>NaN</td>\n      <td>4.0</td>\n      <td>NaN</td>\n      <td>NaN</td>\n      <td>NaN</td>\n      <td>3.0</td>\n      <td>...</td>\n      <td>NaN</td>\n      <td>NaN</td>\n      <td>NaN</td>\n      <td>NaN</td>\n      <td>NaN</td>\n      <td>NaN</td>\n      <td>NaN</td>\n      <td>NaN</td>\n      <td>3.534483</td>\n      <td>0.887087</td>\n    </tr>\n  </tbody>\n</table>\n<p>10 rows × 9662 columns</p>\n</div>"
     },
     "execution_count": 45,
     "metadata": {},
     "output_type": "execute_result"
    }
   ],
   "source": [
    "def note_matrix(df, user_query, K):\n",
    "    notes_matrice = df.iloc[indices.reshape(K, )]\n",
    "    notes_matrice_np = notes_matrice.to_numpy()\n",
    "    user_mask = np.isnan(user_query)\n",
    "    user_mask_np = user_mask.to_numpy().reshape((9724,))\n",
    "    columns_index = notes_matrice.columns.to_numpy()\n",
    "    columns_index = columns_index[user_mask_np]\n",
    "    notes_matrice_np = notes_matrice_np[:, user_mask_np]\n",
    "\n",
    "    return pd.DataFrame(notes_matrice_np, columns=columns_index)\n",
    "\n",
    "# Let's build our main matrix\n",
    "\n",
    "note_matrix = note_matrix(df, user_query, K)\n",
    "note_matrix['mean'] = note_matrix.agg(['mean'], axis=1)\n",
    "\n",
    "distance_serie = pd.Series(distances.reshape((K,)))\n",
    "note_matrix['distances'] = distance_serie\n",
    "\n",
    "note_matrix.sample(10)"
   ],
   "metadata": {
    "collapsed": false,
    "pycharm": {
     "name": "#%%\n"
    }
   }
  },
  {
   "cell_type": "markdown",
   "source": [
    "# Predict and recommend"
   ],
   "metadata": {
    "collapsed": false,
    "pycharm": {
     "name": "#%% md\n"
    }
   }
  },
  {
   "cell_type": "code",
   "execution_count": 46,
   "outputs": [],
   "source": [
    "def predict_notes(\n",
    "    item_notes,\n",
    "    distances,\n",
    "    mean_users_notes,\n",
    "    mean_target_notes):\n",
    "\n",
    "    item_notes = np.array(item_notes)\n",
    "\n",
    "    # We need to apply a mask, in order to\n",
    "    # do calculation only on available ratings :\n",
    "    mask = ~np.isnan(item_notes)\n",
    "    item_notes = item_notes[mask]\n",
    "    mean_users_notes = mean_users_notes.to_numpy()[mask]\n",
    "    distances = distances.to_numpy()[mask]\n",
    "\n",
    "    # Take the inverse of distance, so we give more\n",
    "    # weight to closer vectors.\n",
    "    distances = 1 - distances\n",
    "\n",
    "    weighted_notes = item_notes - mean_users_notes\n",
    "    # mean_target_notes is our constant\n",
    "    return mean_target_notes +\\\n",
    "        np.dot(distances, weighted_notes) / np.sum(np.abs(distances))"
   ],
   "metadata": {
    "collapsed": false,
    "pycharm": {
     "name": "#%%\n"
    }
   }
  },
  {
   "cell_type": "code",
   "execution_count": 53,
   "outputs": [
    {
     "name": "stderr",
     "output_type": "stream",
     "text": [
      "/tmp/ipykernel_16271/2311525962.py:23: RuntimeWarning: invalid value encountered in double_scalars\n",
      "  np.dot(distances, weighted_notes) / np.sum(np.abs(distances))\n"
     ]
    },
    {
     "data": {
      "text/plain": "array([3.85820748, 3.23172062, 3.33409592,        nan, 2.5587792 ,\n       4.03098181, 2.47798828, 3.15125   , 2.39572639, 3.52625628])"
     },
     "execution_count": 53,
     "metadata": {},
     "output_type": "execute_result"
    }
   ],
   "source": [
    "# Transpose for allowing itertuples, and remove user column :\n",
    "note_matrix_transposed = note_matrix.transpose().iloc[:,1:]\n",
    "\n",
    "# Isolate distance and mean rows :\n",
    "distances = note_matrix_transposed.iloc[-1,:]\n",
    "mean = note_matrix_transposed.iloc[-2,:]\n",
    "\n",
    "# Remove distance/mean rows since we don't need them anymore :\n",
    "note_matrix_cleaned = note_matrix_transposed.iloc[:-2,:]\n",
    "\n",
    "user_mean = user_query.mean()\n",
    "\n",
    "predictions = []\n",
    "# Here we will iterate over each movie,\n",
    "# and get a rating prediction, only if\n",
    "# the iterated movie was noted by at\n",
    "# least one neighbor :\n",
    "for row in note_matrix_cleaned.itertuples(index=False):\n",
    "    predictions.append(predict_notes(row, distances, mean, user_mean))\n",
    "\n",
    "predictions = np.array(predictions)\n",
    "predictions[:10]"
   ],
   "metadata": {
    "collapsed": false,
    "pycharm": {
     "name": "#%%\n"
    }
   }
  },
  {
   "cell_type": "code",
   "execution_count": 54,
   "outputs": [
    {
     "name": "stderr",
     "output_type": "stream",
     "text": [
      "/tmp/ipykernel_16271/1307311096.py:4: SettingWithCopyWarning: \n",
      "A value is trying to be set on a copy of a slice from a DataFrame.\n",
      "Try using .loc[row_indexer,col_indexer] = value instead\n",
      "\n",
      "See the caveats in the documentation: https://pandas.pydata.org/pandas-docs/stable/user_guide/indexing.html#returning-a-view-versus-a-copy\n",
      "  note_matrix_cleaned['predicted'] = predictions\n"
     ]
    },
    {
     "data": {
      "text/plain": "                                                     title  \\\nmovieId                                                      \n132333                                         Seve (2014)   \n5490                                    The Big Bus (1976)   \n5915             Victory (a.k.a. Escape to Victory) (1981)   \n96004    Dragon Ball Z: The History of Trunks (Doragon ...   \n170355                               Mulholland Dr. (1999)   \n7748                                 Pierrot le fou (1965)   \n3379                                   On the Beach (1959)   \n3677                                         Baraka (1992)   \n7091                                 Horse Feathers (1932)   \n80693                    It's Kind of a Funny Story (2010)   \n\n                             genres  \nmovieId                              \n132333            Documentary|Drama  \n5490                  Action|Comedy  \n5915               Action|Drama|War  \n96004    Action|Adventure|Animation  \n170355        Drama|Mystery|Romance  \n7748                    Crime|Drama  \n3379                          Drama  \n3677                    Documentary  \n7091                         Comedy  \n80693                  Comedy|Drama  ",
      "text/html": "<div>\n<style scoped>\n    .dataframe tbody tr th:only-of-type {\n        vertical-align: middle;\n    }\n\n    .dataframe tbody tr th {\n        vertical-align: top;\n    }\n\n    .dataframe thead th {\n        text-align: right;\n    }\n</style>\n<table border=\"1\" class=\"dataframe\">\n  <thead>\n    <tr style=\"text-align: right;\">\n      <th></th>\n      <th>title</th>\n      <th>genres</th>\n    </tr>\n    <tr>\n      <th>movieId</th>\n      <th></th>\n      <th></th>\n    </tr>\n  </thead>\n  <tbody>\n    <tr>\n      <th>132333</th>\n      <td>Seve (2014)</td>\n      <td>Documentary|Drama</td>\n    </tr>\n    <tr>\n      <th>5490</th>\n      <td>The Big Bus (1976)</td>\n      <td>Action|Comedy</td>\n    </tr>\n    <tr>\n      <th>5915</th>\n      <td>Victory (a.k.a. Escape to Victory) (1981)</td>\n      <td>Action|Drama|War</td>\n    </tr>\n    <tr>\n      <th>96004</th>\n      <td>Dragon Ball Z: The History of Trunks (Doragon ...</td>\n      <td>Action|Adventure|Animation</td>\n    </tr>\n    <tr>\n      <th>170355</th>\n      <td>Mulholland Dr. (1999)</td>\n      <td>Drama|Mystery|Romance</td>\n    </tr>\n    <tr>\n      <th>7748</th>\n      <td>Pierrot le fou (1965)</td>\n      <td>Crime|Drama</td>\n    </tr>\n    <tr>\n      <th>3379</th>\n      <td>On the Beach (1959)</td>\n      <td>Drama</td>\n    </tr>\n    <tr>\n      <th>3677</th>\n      <td>Baraka (1992)</td>\n      <td>Documentary</td>\n    </tr>\n    <tr>\n      <th>7091</th>\n      <td>Horse Feathers (1932)</td>\n      <td>Comedy</td>\n    </tr>\n    <tr>\n      <th>80693</th>\n      <td>It's Kind of a Funny Story (2010)</td>\n      <td>Comedy|Drama</td>\n    </tr>\n  </tbody>\n</table>\n</div>"
     },
     "execution_count": 54,
     "metadata": {},
     "output_type": "execute_result"
    }
   ],
   "source": [
    "df_movies = pd.read_csv('./data_small/movies.csv')\n",
    "\n",
    "# Add predicted values as new column\n",
    "note_matrix_cleaned['predicted'] = predictions\n",
    "\n",
    "# Top ten best predicted notes\n",
    "top_ten_predicted = note_matrix_cleaned.sort_values('predicted', ascending=False).head(n=10)\n",
    "\n",
    "# Print movies title\n",
    "index = top_ten_predicted.index.to_numpy().astype('int64')\n",
    "df_movies_indexed = df_movies.set_index('movieId')\n",
    "results = df_movies_indexed.loc[index]\n",
    "\n",
    "results"
   ],
   "metadata": {
    "collapsed": false,
    "pycharm": {
     "name": "#%%\n"
    }
   }
  },
  {
   "cell_type": "code",
   "execution_count": 52,
   "outputs": [
    {
     "data": {
      "text/plain": "                                                   title  \\\nmovieId                                                    \n1945                            On the Waterfront (1954)   \n1148         Wallace & Gromit: The Wrong Trousers (1993)   \n1304           Butch Cassidy and the Sundance Kid (1969)   \n1233                        Boot, Das (Boat, The) (1981)   \n6863                               School of Rock (2003)   \n1223     Grand Day Out with Wallace and Gromit, A (1989)   \n5899                                         Zulu (1964)   \n745               Wallace & Gromit: A Close Shave (1995)   \n2944                             Dirty Dozen, The (1967)   \n1204                           Lawrence of Arabia (1962)   \n904                                   Rear Window (1954)   \n6711                          Lost in Translation (2003)   \n6617                                   Open Range (2003)   \n58                     Postman, The (Postino, Il) (1994)   \n1247                                Graduate, The (1967)   \n6410                                     Car Wash (1976)   \n2457                               Running Scared (1986)   \n529                   Searching for Bobby Fischer (1993)   \n3330                        Splendor in the Grass (1961)   \n3555                                        U-571 (2000)   \n\n                                             genres  note  \nmovieId                                                    \n1945                                    Crime|Drama   5.0  \n1148                Animation|Children|Comedy|Crime   5.0  \n1304                                 Action|Western   5.0  \n1233                               Action|Drama|War   5.0  \n6863                                 Comedy|Musical   5.0  \n1223     Adventure|Animation|Children|Comedy|Sci-Fi   5.0  \n5899                               Action|Drama|War   5.0  \n745                       Animation|Children|Comedy   5.0  \n2944                               Action|Drama|War   5.0  \n1204                            Adventure|Drama|War   5.0  \n904                                Mystery|Thriller   5.0  \n6711                           Comedy|Drama|Romance   5.0  \n6617                                        Western   4.5  \n58                             Comedy|Drama|Romance   4.5  \n1247                           Comedy|Drama|Romance   4.5  \n6410                                         Comedy   4.5  \n2457                                  Action|Comedy   4.5  \n529                                           Drama   4.5  \n3330                                  Drama|Romance   4.5  \n3555                            Action|Thriller|War   4.5  ",
      "text/html": "<div>\n<style scoped>\n    .dataframe tbody tr th:only-of-type {\n        vertical-align: middle;\n    }\n\n    .dataframe tbody tr th {\n        vertical-align: top;\n    }\n\n    .dataframe thead th {\n        text-align: right;\n    }\n</style>\n<table border=\"1\" class=\"dataframe\">\n  <thead>\n    <tr style=\"text-align: right;\">\n      <th></th>\n      <th>title</th>\n      <th>genres</th>\n      <th>note</th>\n    </tr>\n    <tr>\n      <th>movieId</th>\n      <th></th>\n      <th></th>\n      <th></th>\n    </tr>\n  </thead>\n  <tbody>\n    <tr>\n      <th>1945</th>\n      <td>On the Waterfront (1954)</td>\n      <td>Crime|Drama</td>\n      <td>5.0</td>\n    </tr>\n    <tr>\n      <th>1148</th>\n      <td>Wallace &amp; Gromit: The Wrong Trousers (1993)</td>\n      <td>Animation|Children|Comedy|Crime</td>\n      <td>5.0</td>\n    </tr>\n    <tr>\n      <th>1304</th>\n      <td>Butch Cassidy and the Sundance Kid (1969)</td>\n      <td>Action|Western</td>\n      <td>5.0</td>\n    </tr>\n    <tr>\n      <th>1233</th>\n      <td>Boot, Das (Boat, The) (1981)</td>\n      <td>Action|Drama|War</td>\n      <td>5.0</td>\n    </tr>\n    <tr>\n      <th>6863</th>\n      <td>School of Rock (2003)</td>\n      <td>Comedy|Musical</td>\n      <td>5.0</td>\n    </tr>\n    <tr>\n      <th>1223</th>\n      <td>Grand Day Out with Wallace and Gromit, A (1989)</td>\n      <td>Adventure|Animation|Children|Comedy|Sci-Fi</td>\n      <td>5.0</td>\n    </tr>\n    <tr>\n      <th>5899</th>\n      <td>Zulu (1964)</td>\n      <td>Action|Drama|War</td>\n      <td>5.0</td>\n    </tr>\n    <tr>\n      <th>745</th>\n      <td>Wallace &amp; Gromit: A Close Shave (1995)</td>\n      <td>Animation|Children|Comedy</td>\n      <td>5.0</td>\n    </tr>\n    <tr>\n      <th>2944</th>\n      <td>Dirty Dozen, The (1967)</td>\n      <td>Action|Drama|War</td>\n      <td>5.0</td>\n    </tr>\n    <tr>\n      <th>1204</th>\n      <td>Lawrence of Arabia (1962)</td>\n      <td>Adventure|Drama|War</td>\n      <td>5.0</td>\n    </tr>\n    <tr>\n      <th>904</th>\n      <td>Rear Window (1954)</td>\n      <td>Mystery|Thriller</td>\n      <td>5.0</td>\n    </tr>\n    <tr>\n      <th>6711</th>\n      <td>Lost in Translation (2003)</td>\n      <td>Comedy|Drama|Romance</td>\n      <td>5.0</td>\n    </tr>\n    <tr>\n      <th>6617</th>\n      <td>Open Range (2003)</td>\n      <td>Western</td>\n      <td>4.5</td>\n    </tr>\n    <tr>\n      <th>58</th>\n      <td>Postman, The (Postino, Il) (1994)</td>\n      <td>Comedy|Drama|Romance</td>\n      <td>4.5</td>\n    </tr>\n    <tr>\n      <th>1247</th>\n      <td>Graduate, The (1967)</td>\n      <td>Comedy|Drama|Romance</td>\n      <td>4.5</td>\n    </tr>\n    <tr>\n      <th>6410</th>\n      <td>Car Wash (1976)</td>\n      <td>Comedy</td>\n      <td>4.5</td>\n    </tr>\n    <tr>\n      <th>2457</th>\n      <td>Running Scared (1986)</td>\n      <td>Action|Comedy</td>\n      <td>4.5</td>\n    </tr>\n    <tr>\n      <th>529</th>\n      <td>Searching for Bobby Fischer (1993)</td>\n      <td>Drama</td>\n      <td>4.5</td>\n    </tr>\n    <tr>\n      <th>3330</th>\n      <td>Splendor in the Grass (1961)</td>\n      <td>Drama|Romance</td>\n      <td>4.5</td>\n    </tr>\n    <tr>\n      <th>3555</th>\n      <td>U-571 (2000)</td>\n      <td>Action|Thriller|War</td>\n      <td>4.5</td>\n    </tr>\n  </tbody>\n</table>\n</div>"
     },
     "execution_count": 52,
     "metadata": {},
     "output_type": "execute_result"
    }
   ],
   "source": [
    "# Let's take a look at initial notes left by user\n",
    "\n",
    "user_query_no_na = user_query.dropna()\n",
    "user_initial_notes = df_movies_indexed.loc[user_query_no_na.index.to_numpy()]\n",
    "user_initial_notes['note'] = user_query_no_na\n",
    "user_initial_notes.sort_values(by=['note'], ascending=False).head(20)"
   ],
   "metadata": {
    "collapsed": false,
    "pycharm": {
     "name": "#%%\n"
    }
   }
  }
 ],
 "metadata": {
  "kernelspec": {
   "display_name": "Python 3",
   "language": "python",
   "name": "python3"
  },
  "language_info": {
   "codemirror_mode": {
    "name": "ipython",
    "version": 2
   },
   "file_extension": ".py",
   "mimetype": "text/x-python",
   "name": "python",
   "nbconvert_exporter": "python",
   "pygments_lexer": "ipython2",
   "version": "2.7.6"
  }
 },
 "nbformat": 4,
 "nbformat_minor": 0
}