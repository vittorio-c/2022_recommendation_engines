{
 "cells": [
  {
   "cell_type": "code",
   "execution_count": 2,
   "metadata": {
    "collapsed": true,
    "pycharm": {
     "name": "#%%\n"
    }
   },
   "outputs": [],
   "source": [
    "import os\n",
    "import pandas as pd\n",
    "\n",
    "\n",
    "cwd = os.getcwd()\n",
    "\n",
    "movies_enrich_df = pd.read_csv(cwd + '/../data/movies_enrichment.csv')\n"
   ]
  },
  {
   "cell_type": "code",
   "execution_count": 6,
   "outputs": [
    {
     "name": "stderr",
     "output_type": "stream",
     "text": [
      "/tmp/ipykernel_33617/3925107896.py:2: FutureWarning: In future versions `DataFrame.to_latex` is expected to utilise the base implementation of `Styler.to_latex` for formatting and rendering. The arguments signature may therefore change. It is recommended instead to use `DataFrame.style.to_latex` which also contains additional functionality.\n",
      "  print(movies_enrich_df.T.sample(10).to_latex())\n",
      "IOPub data rate exceeded.\n",
      "The notebook server will temporarily stop sending output\n",
      "to the client in order to avoid crashing it.\n",
      "To change this limit, set the config variable\n",
      "`--NotebookApp.iopub_data_rate_limit`.\n",
      "\n",
      "Current values:\n",
      "NotebookApp.iopub_data_rate_limit=1000000.0 (bytes/sec)\n",
      "NotebookApp.rate_limit_window=3.0 (secs)\n",
      "\n"
     ]
    }
   ],
   "source": [
    "# movies_enrich_df.sample(10)\n",
    "print(movies_enrich_df.T.sample(10).to_latex())"
   ],
   "metadata": {
    "collapsed": false,
    "pycharm": {
     "name": "#%%\n"
    }
   }
  },
  {
   "cell_type": "code",
   "execution_count": 22,
   "outputs": [
    {
     "data": {
      "text/plain": "                                                                10198  \\\nmovieId                                                         33834   \ntitle                                         Land of the Dead (2005)   \ngenres                                         Action|Horror|Thriller   \ntmdb_budget                                                15000000.0   \ntmdb_revenue                                               46770602.0   \ntmdb_vote_avg                                                     6.2   \ntmdb_vote_count                                                1157.0   \ntmdb_companie_name  Romero-Grunwald Productions|Universal Pictures...   \ntmdb_companie_iso                                            CA|US|FR   \ntmdb_poster_path                     /34rdmEgsFRDOm8LNDsNkkj0qVlL.jpg   \n\n                                               50980  \nmovieId                                       177517  \ntitle                                 End Day (2005)  \ngenres                                Drama|Thriller  \ntmdb_budget                                      NaN  \ntmdb_revenue                                     NaN  \ntmdb_vote_avg                                    4.5  \ntmdb_vote_count                                 24.0  \ntmdb_companie_name                          BBC|Pro7  \ntmdb_companie_iso                                 GB  \ntmdb_poster_path    /3jzRAUPRnAGTnCqkXAbzrWbLGRg.jpg  ",
      "text/html": "<div>\n<style scoped>\n    .dataframe tbody tr th:only-of-type {\n        vertical-align: middle;\n    }\n\n    .dataframe tbody tr th {\n        vertical-align: top;\n    }\n\n    .dataframe thead th {\n        text-align: right;\n    }\n</style>\n<table border=\"1\" class=\"dataframe\">\n  <thead>\n    <tr style=\"text-align: right;\">\n      <th></th>\n      <th>10198</th>\n      <th>50980</th>\n    </tr>\n  </thead>\n  <tbody>\n    <tr>\n      <th>movieId</th>\n      <td>33834</td>\n      <td>177517</td>\n    </tr>\n    <tr>\n      <th>title</th>\n      <td>Land of the Dead (2005)</td>\n      <td>End Day (2005)</td>\n    </tr>\n    <tr>\n      <th>genres</th>\n      <td>Action|Horror|Thriller</td>\n      <td>Drama|Thriller</td>\n    </tr>\n    <tr>\n      <th>tmdb_budget</th>\n      <td>15000000.0</td>\n      <td>NaN</td>\n    </tr>\n    <tr>\n      <th>tmdb_revenue</th>\n      <td>46770602.0</td>\n      <td>NaN</td>\n    </tr>\n    <tr>\n      <th>tmdb_vote_avg</th>\n      <td>6.2</td>\n      <td>4.5</td>\n    </tr>\n    <tr>\n      <th>tmdb_vote_count</th>\n      <td>1157.0</td>\n      <td>24.0</td>\n    </tr>\n    <tr>\n      <th>tmdb_companie_name</th>\n      <td>Romero-Grunwald Productions|Universal Pictures...</td>\n      <td>BBC|Pro7</td>\n    </tr>\n    <tr>\n      <th>tmdb_companie_iso</th>\n      <td>CA|US|FR</td>\n      <td>GB</td>\n    </tr>\n    <tr>\n      <th>tmdb_poster_path</th>\n      <td>/34rdmEgsFRDOm8LNDsNkkj0qVlL.jpg</td>\n      <td>/3jzRAUPRnAGTnCqkXAbzrWbLGRg.jpg</td>\n    </tr>\n  </tbody>\n</table>\n</div>"
     },
     "execution_count": 22,
     "metadata": {},
     "output_type": "execute_result"
    }
   ],
   "source": [
    "movies_enrich_df.sample(2).T\n",
    "\n",
    "# print(movies_enrich_df.sample(2).T.to_latex())"
   ],
   "metadata": {
    "collapsed": false,
    "pycharm": {
     "name": "#%%\n"
    }
   }
  }
 ],
 "metadata": {
  "kernelspec": {
   "display_name": "Python 3",
   "language": "python",
   "name": "python3"
  },
  "language_info": {
   "codemirror_mode": {
    "name": "ipython",
    "version": 2
   },
   "file_extension": ".py",
   "mimetype": "text/x-python",
   "name": "python",
   "nbconvert_exporter": "python",
   "pygments_lexer": "ipython2",
   "version": "2.7.6"
  }
 },
 "nbformat": 4,
 "nbformat_minor": 0
}